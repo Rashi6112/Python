{
 "cells": [
  {
   "cell_type": "markdown",
   "id": "1bc59585-fd26-44e7-bb71-28c03a06e345",
   "metadata": {
    "jp-MarkdownHeadingCollapsed": true
   },
   "source": [
    "# Basics of Python"
   ]
  },
  {
   "cell_type": "code",
   "execution_count": 139,
   "id": "8e9b7e71-ccbe-4c89-bb3a-ab62d7c329a0",
   "metadata": {},
   "outputs": [],
   "source": [
    "import this"
   ]
  },
  {
   "cell_type": "code",
   "execution_count": 3,
   "id": "b6dc30a0-036b-4529-8c95-fa33472d6b08",
   "metadata": {},
   "outputs": [
    {
     "name": "stdout",
     "output_type": "stream",
     "text": [
      "hello word\n"
     ]
    }
   ],
   "source": [
    "print(\"hello word\")"
   ]
  },
  {
   "cell_type": "code",
   "execution_count": 4,
   "id": "ca1ce7cd-7083-4fca-9847-00a4d5c9fa36",
   "metadata": {},
   "outputs": [
    {
     "data": {
      "text/plain": [
       "'\\nBeautiful is better than ugly.\\nExplicit is better than implicit.\\n'"
      ]
     },
     "execution_count": 4,
     "metadata": {},
     "output_type": "execute_result"
    }
   ],
   "source": [
    "# Single line & multiline coments\n",
    "'''\n",
    "Beautiful is better than ugly.\n",
    "Explicit is better than implicit.\n",
    "'''"
   ]
  },
  {
   "cell_type": "code",
   "execution_count": 5,
   "id": "ad98c3e7-cce4-4cd6-8fae-233651df22b8",
   "metadata": {},
   "outputs": [
    {
     "data": {
      "text/plain": [
       "int"
      ]
     },
     "execution_count": 5,
     "metadata": {},
     "output_type": "execute_result"
    }
   ],
   "source": [
    "# Variable declaration\n",
    "a=10\n",
    "type(a)"
   ]
  },
  {
   "cell_type": "code",
   "execution_count": 6,
   "id": "a4aa5612-1906-49ad-9fb0-29114c23a1de",
   "metadata": {},
   "outputs": [
    {
     "data": {
      "text/plain": [
       "2"
      ]
     },
     "execution_count": 6,
     "metadata": {},
     "output_type": "execute_result"
    }
   ],
   "source": [
    "1+1"
   ]
  },
  {
   "cell_type": "code",
   "execution_count": 7,
   "id": "6539c976-15d9-4200-a79c-c02a48116a1a",
   "metadata": {},
   "outputs": [
    {
     "data": {
      "text/plain": [
       "20"
      ]
     },
     "execution_count": 7,
     "metadata": {},
     "output_type": "execute_result"
    }
   ],
   "source": [
    "4*5"
   ]
  },
  {
   "cell_type": "code",
   "execution_count": 8,
   "id": "64b332f5-6f26-4ab5-a0a9-4228bbcfcc7b",
   "metadata": {},
   "outputs": [
    {
     "data": {
      "text/plain": [
       "1024"
      ]
     },
     "execution_count": 8,
     "metadata": {},
     "output_type": "execute_result"
    }
   ],
   "source": [
    "2**10"
   ]
  },
  {
   "cell_type": "code",
   "execution_count": 10,
   "id": "1173698b-ebd8-407a-ac3a-96cc7d2e84c0",
   "metadata": {},
   "outputs": [
    {
     "data": {
      "text/plain": [
       "1"
      ]
     },
     "execution_count": 10,
     "metadata": {},
     "output_type": "execute_result"
    }
   ],
   "source": [
    "# Modulus-->reminder\n",
    "10%3"
   ]
  },
  {
   "cell_type": "code",
   "execution_count": 12,
   "id": "6ce9d3a8-9b60-4ce5-b161-54140d689a74",
   "metadata": {},
   "outputs": [
    {
     "data": {
      "text/plain": [
       "int"
      ]
     },
     "execution_count": 12,
     "metadata": {},
     "output_type": "execute_result"
    }
   ],
   "source": [
    "type(1)"
   ]
  },
  {
   "cell_type": "code",
   "execution_count": 14,
   "id": "82302ada-e45c-42e8-b8a9-7a4b56567813",
   "metadata": {},
   "outputs": [
    {
     "data": {
      "text/plain": [
       "bool"
      ]
     },
     "execution_count": 14,
     "metadata": {},
     "output_type": "execute_result"
    }
   ],
   "source": [
    "type(True)"
   ]
  },
  {
   "cell_type": "code",
   "execution_count": 15,
   "id": "46210c07-5501-4efd-b349-ccacbc9f9070",
   "metadata": {},
   "outputs": [
    {
     "data": {
      "text/plain": [
       "str"
      ]
     },
     "execution_count": 15,
     "metadata": {},
     "output_type": "execute_result"
    }
   ],
   "source": [
    "type(\"rashi\")"
   ]
  },
  {
   "cell_type": "code",
   "execution_count": 16,
   "id": "52a45b2e-3388-4c07-bd00-80c14f220821",
   "metadata": {},
   "outputs": [
    {
     "data": {
      "text/plain": [
       "complex"
      ]
     },
     "execution_count": 16,
     "metadata": {},
     "output_type": "execute_result"
    }
   ],
   "source": [
    "type(3+4j)"
   ]
  },
  {
   "cell_type": "code",
   "execution_count": 17,
   "id": "996b2e1a-f17b-4fba-b611-2437db437874",
   "metadata": {},
   "outputs": [
    {
     "data": {
      "text/plain": [
       "float"
      ]
     },
     "execution_count": 17,
     "metadata": {},
     "output_type": "execute_result"
    }
   ],
   "source": [
    "type(2.4)"
   ]
  },
  {
   "cell_type": "code",
   "execution_count": 20,
   "id": "561639eb-adfd-490b-9a82-d6cce7bc8fa3",
   "metadata": {},
   "outputs": [
    {
     "name": "stdout",
     "output_type": "stream",
     "text": [
      "30\n",
      "3.3333333333333335\n",
      "1\n",
      "3\n"
     ]
    }
   ],
   "source": [
    "# Mathematical operation\n",
    "a=10\n",
    "b=3\n",
    "# BODMAS-->bracket/operation/division/multiplication/addition/substraction\n",
    "print(a*b)\n",
    "print(a/b)\n",
    "print(a%b) #Reminder \n",
    "print(a//b) #qoutient"
   ]
  },
  {
   "cell_type": "code",
   "execution_count": 21,
   "id": "e63c6c54-b46f-418e-8712-3b6af80757fa",
   "metadata": {},
   "outputs": [
    {
     "name": "stdout",
     "output_type": "stream",
     "text": [
      "rashi\n"
     ]
    }
   ],
   "source": [
    "print(\"rashi\")"
   ]
  },
  {
   "cell_type": "code",
   "execution_count": 23,
   "id": "6c4879e1-f622-4338-87ca-1ac18c1c9d3f",
   "metadata": {},
   "outputs": [
    {
     "name": "stdout",
     "output_type": "stream",
     "text": [
      "My first name is Rashi and last name is Khabiya\n"
     ]
    }
   ],
   "source": [
    "first_name=\"Rashi\"\n",
    "last_name=\"Khabiya\"\n",
    "print(\"My first name is {first} and last name is {last}\".format(first=first_name,last=last_name))"
   ]
  },
  {
   "cell_type": "code",
   "execution_count": 24,
   "id": "7a829d69-e027-4233-a6fd-51d569f7f249",
   "metadata": {},
   "outputs": [
    {
     "name": "stdout",
     "output_type": "stream",
     "text": [
      "My first name is Rashi and last name is Khabiya\n"
     ]
    }
   ],
   "source": [
    "print(\"My first name is {} and last name is {}\".format(first_name,last_name))"
   ]
  },
  {
   "cell_type": "code",
   "execution_count": 26,
   "id": "f10207f7-6b52-453d-a50d-567cf1e5aa5f",
   "metadata": {},
   "outputs": [
    {
     "data": {
      "text/plain": [
       "7"
      ]
     },
     "execution_count": 26,
     "metadata": {},
     "output_type": "execute_result"
    }
   ],
   "source": [
    "len(\"Khabiya\")"
   ]
  },
  {
   "cell_type": "code",
   "execution_count": 28,
   "id": "819b2199-2950-4a88-924c-0382d2369c9f",
   "metadata": {},
   "outputs": [
    {
     "data": {
      "text/plain": [
       "list"
      ]
     },
     "execution_count": 28,
     "metadata": {},
     "output_type": "execute_result"
    }
   ],
   "source": [
    "type([1,'2',4.5,55])"
   ]
  },
  {
   "cell_type": "markdown",
   "id": "4db30313-b10e-486d-a709-cbc0b67b3b60",
   "metadata": {
    "jp-MarkdownHeadingCollapsed": true
   },
   "source": [
    "# Python Data Structures and Boolean\n",
    "- Boolean\n",
    "- Boolean and logical Operators\n",
    "- Lists\n",
    "- Comparison Operators\n",
    "- Dictionaries\n",
    "- Tuples\n",
    "- Sets\n",
    "  \n",
    "**Boolean Variables** \n",
    "\n",
    " Boolean values are the two constant objects True and False\n",
    " \n",
    " They are used to represent truth values (other values can also be considered false or true)\n",
    " \n",
    " In numeric context(0 and 1)"
   ]
  },
  {
   "cell_type": "code",
   "execution_count": 29,
   "id": "49c009a2-1053-40c2-be93-69335949928f",
   "metadata": {},
   "outputs": [
    {
     "data": {
      "text/plain": [
       "False"
      ]
     },
     "execution_count": 29,
     "metadata": {},
     "output_type": "execute_result"
    }
   ],
   "source": [
    "bool()"
   ]
  },
  {
   "cell_type": "code",
   "execution_count": 30,
   "id": "73b1567d-9cd3-48fb-803f-e574e5880c51",
   "metadata": {},
   "outputs": [
    {
     "data": {
      "text/plain": [
       "bool"
      ]
     },
     "execution_count": 30,
     "metadata": {},
     "output_type": "execute_result"
    }
   ],
   "source": [
    "type(True)"
   ]
  },
  {
   "cell_type": "code",
   "execution_count": 31,
   "id": "2f0682b3-bd54-4623-b67e-51d98f2cb264",
   "metadata": {},
   "outputs": [
    {
     "data": {
      "text/plain": [
       "bool"
      ]
     },
     "execution_count": 31,
     "metadata": {},
     "output_type": "execute_result"
    }
   ],
   "source": [
    "type(False)"
   ]
  },
  {
   "cell_type": "code",
   "execution_count": 44,
   "id": "b5dfa66f-9c5b-49d8-9727-9532160c1963",
   "metadata": {},
   "outputs": [
    {
     "name": "stdout",
     "output_type": "stream",
     "text": [
      "False\n",
      "False\n",
      "False\n",
      "True\n",
      "False\n",
      "False\n",
      "False\n",
      "True\n",
      "True\n"
     ]
    }
   ],
   "source": [
    "my_str=\"Rashi Khabiya\"\n",
    "print(my_str.isalnum()) #check if all char are numbers & alphabet\n",
    "print(my_str.isalpha()) #check if all char in the string are alphabetic\n",
    "print(my_str.isdigit()) #test if string contains digits\n",
    "print(my_str.istitle()) #test if string contains title words\n",
    "print(my_str.isupper()) #test if string contains upper case\n",
    "print(my_str.islower()) #test if string contains lower case\n",
    "print(my_str.isspace()) #test if string contains spaces\n",
    "print(my_str.endswith('a')) #test if string endswith a 'a'\n",
    "print(my_str.startswith('R')) #test if string startswith a 'R'"
   ]
  },
  {
   "cell_type": "code",
   "execution_count": 45,
   "id": "1bd9e263-2740-455c-85fb-3f3d055020d0",
   "metadata": {},
   "outputs": [
    {
     "data": {
      "text/plain": [
       "True"
      ]
     },
     "execution_count": 45,
     "metadata": {},
     "output_type": "execute_result"
    }
   ],
   "source": [
    "True and True"
   ]
  },
  {
   "cell_type": "code",
   "execution_count": 46,
   "id": "c1562db2-4d79-4ae5-8c18-f9f097e09287",
   "metadata": {},
   "outputs": [
    {
     "data": {
      "text/plain": [
       "False"
      ]
     },
     "execution_count": 46,
     "metadata": {},
     "output_type": "execute_result"
    }
   ],
   "source": [
    "True and False"
   ]
  },
  {
   "cell_type": "code",
   "execution_count": 47,
   "id": "287e699e-3bb3-410f-bdea-5f66eb7c3f52",
   "metadata": {},
   "outputs": [
    {
     "data": {
      "text/plain": [
       "True"
      ]
     },
     "execution_count": 47,
     "metadata": {},
     "output_type": "execute_result"
    }
   ],
   "source": [
    "True or True"
   ]
  },
  {
   "cell_type": "code",
   "execution_count": 48,
   "id": "8de76b27-c866-4261-925a-7934ad5d7922",
   "metadata": {},
   "outputs": [
    {
     "data": {
      "text/plain": [
       "True"
      ]
     },
     "execution_count": 48,
     "metadata": {},
     "output_type": "execute_result"
    }
   ],
   "source": [
    "True or False"
   ]
  },
  {
   "cell_type": "code",
   "execution_count": 55,
   "id": "d1079745-63da-4992-b27c-d45847fd9ed9",
   "metadata": {},
   "outputs": [
    {
     "data": {
      "text/plain": [
       "True"
      ]
     },
     "execution_count": 55,
     "metadata": {},
     "output_type": "execute_result"
    }
   ],
   "source": [
    "str_ex=\"Rashi khabiya\"\n",
    "str_ex2=\"rashi\"\n",
    "\n",
    "str_ex2.isalpha() or str_ex.isnum()"
   ]
  },
  {
   "cell_type": "markdown",
   "id": "446138de-955c-41be-82b7-14acc9e578a7",
   "metadata": {
    "jp-MarkdownHeadingCollapsed": true
   },
   "source": [
    "# List\n",
    "- A list is a data structure in python mutable,or changeable,ordered sequence of elements\n",
    "- Each element or value that is inside a list is called an item\n",
    "- Just as string are defined as characters between quotes, list are defined ny having values between square bracket[]\n",
    "\n",
    "**Inbuilt functions of list**\n",
    "- Append object to the end of the list.\n",
    "- insert in a specific order\n",
    "- Extend list by appending elements from the iterable.\n",
    "- Pop Remove and return item at index (default last).\n",
    "- Count Return number of occurrences of value.\n",
    "- Len Return the number of items in a container.\n",
    "- Index Return first index of value. Raises ValueError if the value is not present."
   ]
  },
  {
   "cell_type": "code",
   "execution_count": 56,
   "id": "46a35f94-1e65-40c4-affb-263bcce37466",
   "metadata": {},
   "outputs": [
    {
     "data": {
      "text/plain": [
       "list"
      ]
     },
     "execution_count": 56,
     "metadata": {},
     "output_type": "execute_result"
    }
   ],
   "source": [
    "type([])"
   ]
  },
  {
   "cell_type": "code",
   "execution_count": 57,
   "id": "682d8f30-98bb-4267-ba46-bd299b1e1c6c",
   "metadata": {},
   "outputs": [
    {
     "data": {
      "text/plain": [
       "list"
      ]
     },
     "execution_count": 57,
     "metadata": {},
     "output_type": "execute_result"
    }
   ],
   "source": [
    "list_ex=[]\n",
    "type(list_ex)"
   ]
  },
  {
   "cell_type": "code",
   "execution_count": 58,
   "id": "a0d05c14-1873-4d5f-b68b-6ce768e18094",
   "metadata": {},
   "outputs": [
    {
     "data": {
      "text/plain": [
       "list"
      ]
     },
     "execution_count": 58,
     "metadata": {},
     "output_type": "execute_result"
    }
   ],
   "source": [
    "lst=list()\n",
    "type(lst)"
   ]
  },
  {
   "cell_type": "code",
   "execution_count": 65,
   "id": "dbca9fbc-bb09-44f2-9fa4-ebd1335ca3dc",
   "metadata": {},
   "outputs": [
    {
     "data": {
      "text/plain": [
       "5"
      ]
     },
     "execution_count": 65,
     "metadata": {},
     "output_type": "execute_result"
    }
   ],
   "source": [
    "lst=[\"MATHS\",\"BIOLOGY\",100,234,678]\n",
    "len(lst)"
   ]
  },
  {
   "cell_type": "code",
   "execution_count": 66,
   "id": "9f75b466-99fd-438d-8512-4d2dabfc5e96",
   "metadata": {},
   "outputs": [
    {
     "data": {
      "text/plain": [
       "list"
      ]
     },
     "execution_count": 66,
     "metadata": {},
     "output_type": "execute_result"
    }
   ],
   "source": [
    "type(lst)"
   ]
  },
  {
   "cell_type": "code",
   "execution_count": 67,
   "id": "e052fd35-e206-4943-955b-a416a89fd4a7",
   "metadata": {},
   "outputs": [],
   "source": [
    "lst.append(987)"
   ]
  },
  {
   "cell_type": "code",
   "execution_count": 68,
   "id": "f8f5cc97-ae04-4b88-865b-e924363cd83b",
   "metadata": {},
   "outputs": [
    {
     "data": {
      "text/plain": [
       "['MATHS', 'BIOLOGY', 100, 234, 678, 987]"
      ]
     },
     "execution_count": 68,
     "metadata": {},
     "output_type": "execute_result"
    }
   ],
   "source": [
    "lst"
   ]
  },
  {
   "cell_type": "code",
   "execution_count": 79,
   "id": "cdd4b021-5177-4fe6-99b8-ca55d15e4217",
   "metadata": {},
   "outputs": [
    {
     "data": {
      "text/plain": [
       "100"
      ]
     },
     "execution_count": 79,
     "metadata": {},
     "output_type": "execute_result"
    }
   ],
   "source": [
    "# Indexing in list\n",
    "lst[2]"
   ]
  },
  {
   "cell_type": "code",
   "execution_count": 70,
   "id": "08761730-0a05-4d7a-8bae-d81487859cc4",
   "metadata": {},
   "outputs": [
    {
     "data": {
      "text/plain": [
       "6"
      ]
     },
     "execution_count": 70,
     "metadata": {},
     "output_type": "execute_result"
    }
   ],
   "source": [
    "len(lst)"
   ]
  },
  {
   "cell_type": "code",
   "execution_count": 71,
   "id": "f2adb3f7-b060-48f8-9ea7-8f092ff0348c",
   "metadata": {},
   "outputs": [
    {
     "data": {
      "text/plain": [
       "['MATHS', 'BIOLOGY', 100, 234, 678, 987]"
      ]
     },
     "execution_count": 71,
     "metadata": {},
     "output_type": "execute_result"
    }
   ],
   "source": [
    "lst[:]"
   ]
  },
  {
   "cell_type": "code",
   "execution_count": 72,
   "id": "a565c2dc-f29d-4b8f-a9d5-8dfe2da128d4",
   "metadata": {},
   "outputs": [
    {
     "data": {
      "text/plain": [
       "['BIOLOGY', 100, 234, 678, 987]"
      ]
     },
     "execution_count": 72,
     "metadata": {},
     "output_type": "execute_result"
    }
   ],
   "source": [
    "lst[1:]"
   ]
  },
  {
   "cell_type": "code",
   "execution_count": 76,
   "id": "0b08415a-4b3e-4055-87be-925ea67f133f",
   "metadata": {},
   "outputs": [
    {
     "data": {
      "text/plain": [
       "['MATHS', 'BIOLOGY', 100, 234, 678]"
      ]
     },
     "execution_count": 76,
     "metadata": {},
     "output_type": "execute_result"
    }
   ],
   "source": [
    "lst[:-1]"
   ]
  },
  {
   "cell_type": "code",
   "execution_count": 78,
   "id": "65a6b512-5a03-4dde-85f9-0492f24dd05a",
   "metadata": {},
   "outputs": [
    {
     "data": {
      "text/plain": [
       "['BIOLOGY', 100, 234, 678]"
      ]
     },
     "execution_count": 78,
     "metadata": {},
     "output_type": "execute_result"
    }
   ],
   "source": [
    "lst[1:5]"
   ]
  },
  {
   "cell_type": "code",
   "execution_count": 81,
   "id": "5159e1df-6e4b-43cc-81cb-54b056713ddf",
   "metadata": {},
   "outputs": [],
   "source": [
    "lst.append([\"Om\",\"Khabiya\"])"
   ]
  },
  {
   "cell_type": "code",
   "execution_count": 82,
   "id": "ec9ed06b-04ee-4356-8af6-56c758328679",
   "metadata": {},
   "outputs": [
    {
     "data": {
      "text/plain": [
       "['MATHS', 'BIOLOGY', 100, 234, 678, 987, ['Om', 'Khabiya']]"
      ]
     },
     "execution_count": 82,
     "metadata": {},
     "output_type": "execute_result"
    }
   ],
   "source": [
    "lst"
   ]
  },
  {
   "cell_type": "code",
   "execution_count": 83,
   "id": "60e4cdd0-ec49-4488-99d6-1c065910b709",
   "metadata": {},
   "outputs": [
    {
     "data": {
      "text/plain": [
       "['MATHS', 'BIOLOGY', 'om', 100, 234, 678, 987, ['Om', 'Khabiya']]"
      ]
     },
     "execution_count": 83,
     "metadata": {},
     "output_type": "execute_result"
    }
   ],
   "source": [
    "lst.insert(2,\"om\")\n",
    "lst"
   ]
  },
  {
   "cell_type": "code",
   "execution_count": 84,
   "id": "b57c5e81-1235-46f0-a669-84f99d5fcb5b",
   "metadata": {},
   "outputs": [],
   "source": [
    "lst1=[1,2,3,4,5,6]\n",
    "lst1.extend(['rashi','madhur'])"
   ]
  },
  {
   "cell_type": "code",
   "execution_count": 85,
   "id": "ba3163cf-003a-4b24-8778-866120992ae4",
   "metadata": {},
   "outputs": [
    {
     "data": {
      "text/plain": [
       "[1, 2, 3, 4, 5, 6, 'rashi', 'madhur']"
      ]
     },
     "execution_count": 85,
     "metadata": {},
     "output_type": "execute_result"
    }
   ],
   "source": [
    "lst1"
   ]
  },
  {
   "cell_type": "code",
   "execution_count": 86,
   "id": "08dbefad-02fd-4b57-b8e1-17d1a556d31f",
   "metadata": {},
   "outputs": [
    {
     "ename": "TypeError",
     "evalue": "unsupported operand type(s) for +: 'int' and 'str'",
     "output_type": "error",
     "traceback": [
      "\u001b[1;31m---------------------------------------------------------------------------\u001b[0m",
      "\u001b[1;31mTypeError\u001b[0m                                 Traceback (most recent call last)",
      "Cell \u001b[1;32mIn[86], line 1\u001b[0m\n\u001b[1;32m----> 1\u001b[0m \u001b[38;5;28msum\u001b[39m(lst1)\n",
      "\u001b[1;31mTypeError\u001b[0m: unsupported operand type(s) for +: 'int' and 'str'"
     ]
    }
   ],
   "source": [
    "sum(lst1)"
   ]
  },
  {
   "cell_type": "code",
   "execution_count": 88,
   "id": "503f0375-1bbc-46d3-b342-41a4e9c81b3d",
   "metadata": {},
   "outputs": [
    {
     "data": {
      "text/plain": [
       "'madhur'"
      ]
     },
     "execution_count": 88,
     "metadata": {},
     "output_type": "execute_result"
    }
   ],
   "source": [
    "lst1.pop()"
   ]
  },
  {
   "cell_type": "code",
   "execution_count": 89,
   "id": "783a7ed2-11bc-4acd-a162-6d85aa480707",
   "metadata": {},
   "outputs": [
    {
     "data": {
      "text/plain": [
       "[1, 2, 3, 4, 5, 6, 'rashi']"
      ]
     },
     "execution_count": 89,
     "metadata": {},
     "output_type": "execute_result"
    }
   ],
   "source": [
    "lst1"
   ]
  },
  {
   "cell_type": "code",
   "execution_count": 90,
   "id": "9b696b46-f8d5-46d8-a3fd-eedfce02f665",
   "metadata": {},
   "outputs": [
    {
     "data": {
      "text/plain": [
       "2"
      ]
     },
     "execution_count": 90,
     "metadata": {},
     "output_type": "execute_result"
    }
   ],
   "source": [
    "lst1.pop(1)"
   ]
  },
  {
   "cell_type": "code",
   "execution_count": 91,
   "id": "848aeb67-95fe-404a-9d6f-aaecea82cedb",
   "metadata": {},
   "outputs": [
    {
     "data": {
      "text/plain": [
       "[1, 3, 4, 5, 6, 'rashi']"
      ]
     },
     "execution_count": 91,
     "metadata": {},
     "output_type": "execute_result"
    }
   ],
   "source": [
    "lst1"
   ]
  },
  {
   "cell_type": "code",
   "execution_count": 94,
   "id": "85bebb4c-9cd0-4a24-9378-7156203434e0",
   "metadata": {},
   "outputs": [
    {
     "data": {
      "text/plain": [
       "3"
      ]
     },
     "execution_count": 94,
     "metadata": {},
     "output_type": "execute_result"
    }
   ],
   "source": [
    "lst2=[3,4,5,2,3,3,5,4,2]\n",
    "lst2.count(3)"
   ]
  },
  {
   "cell_type": "code",
   "execution_count": 95,
   "id": "8bbe55ac-bf34-47ac-81ba-e69fe89f8f30",
   "metadata": {},
   "outputs": [
    {
     "data": {
      "text/plain": [
       "9"
      ]
     },
     "execution_count": 95,
     "metadata": {},
     "output_type": "execute_result"
    }
   ],
   "source": [
    "len(lst2)"
   ]
  },
  {
   "cell_type": "code",
   "execution_count": 107,
   "id": "4bd6c98a-016a-4e90-9520-c8f89e5a276b",
   "metadata": {},
   "outputs": [
    {
     "data": {
      "text/plain": [
       "5"
      ]
     },
     "execution_count": 107,
     "metadata": {},
     "output_type": "execute_result"
    }
   ],
   "source": [
    "lst2.index(3,5,8)"
   ]
  },
  {
   "cell_type": "code",
   "execution_count": 108,
   "id": "6ca979bc-9c70-4a2e-8fc3-739b685291bf",
   "metadata": {},
   "outputs": [
    {
     "data": {
      "text/plain": [
       "[3, 4, 5, 2, 3, 3, 5, 4, 2, 3, 4, 5, 2, 3, 3, 5, 4, 2]"
      ]
     },
     "execution_count": 108,
     "metadata": {},
     "output_type": "execute_result"
    }
   ],
   "source": [
    "lst2*2"
   ]
  },
  {
   "cell_type": "markdown",
   "id": "ce07843e-e14e-4ebf-beeb-249aaf2f4523",
   "metadata": {
    "jp-MarkdownHeadingCollapsed": true
   },
   "source": [
    "# Sets\n",
    "- Set is an unordered collection of data type that is iterable and not indexed\n",
    "- Sets are mutable and has no duplicate elements\n",
    "- Set class represent the matematical notion of sets\n",
    "- This is based on a data structure known as hash tables\n",
    "  \n",
    "**In-built functions of sets**\n",
    "- Add an element to a set.\n",
    "- Intersection Return the intersection of two sets as a new set.\n",
    "- Intersectin_update Update a set with the intersection of itself and another.\n",
    "- Difference Return the difference of two or more sets as a new set.\n",
    "- Difference_update Remove all elements of another set from this set."
   ]
  },
  {
   "cell_type": "code",
   "execution_count": 110,
   "id": "47978d14-f266-47f8-aa17-20c9a2b1d038",
   "metadata": {},
   "outputs": [
    {
     "name": "stdout",
     "output_type": "stream",
     "text": [
      "set()\n",
      "<class 'set'>\n"
     ]
    }
   ],
   "source": [
    "set_var=set()\n",
    "print(set_var)\n",
    "print(type(set_var))"
   ]
  },
  {
   "cell_type": "code",
   "execution_count": 111,
   "id": "9855d58a-86c0-4ac3-a3ae-a1800c393182",
   "metadata": {},
   "outputs": [
    {
     "data": {
      "text/plain": [
       "{1, 2, 3, 4}"
      ]
     },
     "execution_count": 111,
     "metadata": {},
     "output_type": "execute_result"
    }
   ],
   "source": [
    "set_var={1,2,3,4,3}\n",
    "set_var"
   ]
  },
  {
   "cell_type": "code",
   "execution_count": 130,
   "id": "369e11af-ffdf-40f2-8739-c1a321148b89",
   "metadata": {},
   "outputs": [],
   "source": [
    "set1={\"Avengers\",\"Ironman\",\"Spiderman\"}\n",
    "set2={\"Avengers\",\"Ironman\",\"Spiderman\",\"Mentalist\",\"Citadel\"}\n",
    "set1.add(\"Hulk\")"
   ]
  },
  {
   "cell_type": "code",
   "execution_count": 131,
   "id": "80197766-b328-48ac-b879-91078d0b8a68",
   "metadata": {},
   "outputs": [
    {
     "name": "stdout",
     "output_type": "stream",
     "text": [
      "{'Hulk', 'Avengers', 'Spiderman', 'Ironman'}\n"
     ]
    }
   ],
   "source": [
    "print(set_var)"
   ]
  },
  {
   "cell_type": "code",
   "execution_count": 126,
   "id": "a3feac9d-d705-4fd8-a526-7a26ffb85f6d",
   "metadata": {},
   "outputs": [
    {
     "data": {
      "text/plain": [
       "{'Avengers', 'Ironman', 'Spiderman'}"
      ]
     },
     "execution_count": 126,
     "metadata": {},
     "output_type": "execute_result"
    }
   ],
   "source": [
    "set_var2.intersection(set_var)"
   ]
  },
  {
   "cell_type": "code",
   "execution_count": 127,
   "id": "8b09dcdf-4175-4534-873d-879844a1ae0c",
   "metadata": {},
   "outputs": [],
   "source": [
    "set_var2.intersection_update(set_var)"
   ]
  },
  {
   "cell_type": "code",
   "execution_count": 128,
   "id": "599363fe-8c14-48a7-8ae0-70caf2c6a76a",
   "metadata": {},
   "outputs": [
    {
     "data": {
      "text/plain": [
       "{'Avengers', 'Ironman', 'Spiderman'}"
      ]
     },
     "execution_count": 128,
     "metadata": {},
     "output_type": "execute_result"
    }
   ],
   "source": [
    "set_var2"
   ]
  },
  {
   "cell_type": "code",
   "execution_count": 132,
   "id": "8ebd2ea8-0036-4632-8f40-302e9c03f68f",
   "metadata": {},
   "outputs": [
    {
     "data": {
      "text/plain": [
       "{'Citadel', 'Mentalist'}"
      ]
     },
     "execution_count": 132,
     "metadata": {},
     "output_type": "execute_result"
    }
   ],
   "source": [
    "set2.difference(set1)"
   ]
  },
  {
   "cell_type": "code",
   "execution_count": 133,
   "id": "53d94cc4-c4f0-461e-baab-cf0da99ae14c",
   "metadata": {},
   "outputs": [],
   "source": [
    "set2.difference_update(set1)"
   ]
  },
  {
   "cell_type": "code",
   "execution_count": 134,
   "id": "daed5718-3ff8-4317-8259-8acf6a2666e2",
   "metadata": {},
   "outputs": [
    {
     "data": {
      "text/plain": [
       "{'Citadel', 'Mentalist'}"
      ]
     },
     "execution_count": 134,
     "metadata": {},
     "output_type": "execute_result"
    }
   ],
   "source": [
    "set2"
   ]
  },
  {
   "cell_type": "markdown",
   "id": "2afbd017-669c-48c1-b85b-2d32501bcd90",
   "metadata": {
    "jp-MarkdownHeadingCollapsed": true
   },
   "source": [
    "# Dictionaries\n",
    "- A dictionaries is a collection which is unordered,changeable and indexing by keys\n",
    "- In Python dictionaries are written with curly brackets and they have key value pair"
   ]
  },
  {
   "cell_type": "code",
   "execution_count": 136,
   "id": "bb3a8fc4-f91c-4ee6-a345-3e9497912b3a",
   "metadata": {},
   "outputs": [
    {
     "data": {
      "text/plain": [
       "dict"
      ]
     },
     "execution_count": 136,
     "metadata": {},
     "output_type": "execute_result"
    }
   ],
   "source": [
    "dic={}\n",
    "type(dic)"
   ]
  },
  {
   "cell_type": "code",
   "execution_count": 137,
   "id": "912866e2-d904-431a-abde-723591f4357d",
   "metadata": {},
   "outputs": [],
   "source": [
    "my_dic={\"color1\":\"red\",\"color2\":\"blue\",\"color3\":\"black\"}"
   ]
  },
  {
   "cell_type": "code",
   "execution_count": 138,
   "id": "793fec9d-bfe5-4e19-a3e4-190c0b0a7b29",
   "metadata": {},
   "outputs": [
    {
     "data": {
      "text/plain": [
       "dict"
      ]
     },
     "execution_count": 138,
     "metadata": {},
     "output_type": "execute_result"
    }
   ],
   "source": [
    "type(my_dic)"
   ]
  },
  {
   "cell_type": "code",
   "execution_count": 141,
   "id": "394616c9-eed4-4721-af62-11e2881e46b8",
   "metadata": {},
   "outputs": [
    {
     "data": {
      "text/plain": [
       "'blue'"
      ]
     },
     "execution_count": 141,
     "metadata": {},
     "output_type": "execute_result"
    }
   ],
   "source": [
    "my_dic['color2']"
   ]
  },
  {
   "cell_type": "code",
   "execution_count": 142,
   "id": "3476e38d-b1fd-479c-9204-3429e710a44e",
   "metadata": {},
   "outputs": [
    {
     "name": "stdout",
     "output_type": "stream",
     "text": [
      "color1\n",
      "color2\n",
      "color3\n"
     ]
    }
   ],
   "source": [
    "for x in my_dic:\n",
    "    print(x)"
   ]
  },
  {
   "cell_type": "code",
   "execution_count": 143,
   "id": "dee3a419-c0c9-44a4-86a2-5064518cda7f",
   "metadata": {},
   "outputs": [
    {
     "name": "stdout",
     "output_type": "stream",
     "text": [
      "red\n",
      "blue\n",
      "black\n"
     ]
    }
   ],
   "source": [
    "for x in my_dic.values():\n",
    "    print(x)"
   ]
  },
  {
   "cell_type": "code",
   "execution_count": 144,
   "id": "6261303a-6093-448e-b433-90248f344afa",
   "metadata": {},
   "outputs": [
    {
     "name": "stdout",
     "output_type": "stream",
     "text": [
      "('color1', 'red')\n",
      "('color2', 'blue')\n",
      "('color3', 'black')\n"
     ]
    }
   ],
   "source": [
    "for x in my_dic.items():\n",
    "    print(x)"
   ]
  },
  {
   "cell_type": "code",
   "execution_count": 145,
   "id": "457b20ae-bb6c-4b04-afb7-5c31b38fb0de",
   "metadata": {},
   "outputs": [
    {
     "data": {
      "text/plain": [
       "{'color1': 'red', 'color2': 'blue', 'color3': 'black', 'color4': 'green'}"
      ]
     },
     "execution_count": 145,
     "metadata": {},
     "output_type": "execute_result"
    }
   ],
   "source": [
    "my_dic['color4']=\"green\"\n",
    "my_dic"
   ]
  },
  {
   "cell_type": "code",
   "execution_count": 146,
   "id": "88bf0092-26c8-4c45-bd90-04dfa22b3524",
   "metadata": {},
   "outputs": [
    {
     "data": {
      "text/plain": [
       "{'color1': 'green', 'color2': 'blue', 'color3': 'black', 'color4': 'green'}"
      ]
     },
     "execution_count": 146,
     "metadata": {},
     "output_type": "execute_result"
    }
   ],
   "source": [
    "my_dic['color1']=\"green\"\n",
    "my_dic"
   ]
  },
  {
   "cell_type": "code",
   "execution_count": 148,
   "id": "9dddbdc4-2d99-47e9-9ce9-43e207642600",
   "metadata": {},
   "outputs": [
    {
     "name": "stdout",
     "output_type": "stream",
     "text": [
      "{'sem1': {'maths': 98, 'science': 78, 'english': 88}, 'sem2': {'maths': 78, 'science': 68, 'english': 68}, 'sem3': {'maths': 89, 'science': 98, 'english': 98}}\n"
     ]
    }
   ],
   "source": [
    "sem1={\"maths\":98,\"science\":78,\"english\":88}\n",
    "sem2={\"maths\":78,\"science\":68,\"english\":68}\n",
    "sem3={\"maths\":89,\"science\":98,\"english\":98}\n",
    "marksheet={'sem1':sem1,'sem2':sem2,'sem3':sem3}\n",
    "print(marksheet)"
   ]
  },
  {
   "cell_type": "code",
   "execution_count": 150,
   "id": "5d808d6e-b551-428b-b5d7-e65d19918614",
   "metadata": {},
   "outputs": [
    {
     "name": "stdout",
     "output_type": "stream",
     "text": [
      "78\n"
     ]
    }
   ],
   "source": [
    "print(marksheet['sem2']['maths'])"
   ]
  },
  {
   "cell_type": "markdown",
   "id": "aeb10778-bfaf-4516-85e9-d35cdb609c76",
   "metadata": {
    "jp-MarkdownHeadingCollapsed": true
   },
   "source": [
    "# Tuples\n",
    "- It is not mutable,no item can be changed\n",
    "- Use ()\n",
    "  \n",
    "**Inbuilt function**\n",
    "- count"
   ]
  },
  {
   "cell_type": "code",
   "execution_count": 152,
   "id": "605c5e0e-0178-4b77-9b4a-b2061b3ebea5",
   "metadata": {},
   "outputs": [
    {
     "data": {
      "text/plain": [
       "tuple"
      ]
     },
     "execution_count": 152,
     "metadata": {},
     "output_type": "execute_result"
    }
   ],
   "source": [
    "my_tuple=tuple()\n",
    "type(my_tuple)"
   ]
  },
  {
   "cell_type": "code",
   "execution_count": 153,
   "id": "629f3b51-b5df-454c-bf98-2e95b905ef7c",
   "metadata": {},
   "outputs": [],
   "source": [
    "my_tuple=('rashi','ritika','nikita','annu')"
   ]
  },
  {
   "cell_type": "code",
   "execution_count": 155,
   "id": "6dcc64a1-aa2f-493a-8f8c-e80aaa429214",
   "metadata": {},
   "outputs": [
    {
     "data": {
      "text/plain": [
       "'rashi'"
      ]
     },
     "execution_count": 155,
     "metadata": {},
     "output_type": "execute_result"
    }
   ],
   "source": [
    "my_tuple[0]"
   ]
  },
  {
   "cell_type": "code",
   "execution_count": 156,
   "id": "5a232015-8303-4c83-b844-f3236a621d79",
   "metadata": {},
   "outputs": [
    {
     "ename": "TypeError",
     "evalue": "'tuple' object does not support item assignment",
     "output_type": "error",
     "traceback": [
      "\u001b[1;31m---------------------------------------------------------------------------\u001b[0m",
      "\u001b[1;31mTypeError\u001b[0m                                 Traceback (most recent call last)",
      "Cell \u001b[1;32mIn[156], line 1\u001b[0m\n\u001b[1;32m----> 1\u001b[0m my_tuple[\u001b[38;5;241m0\u001b[39m]\u001b[38;5;241m=\u001b[39m\u001b[38;5;124m'\u001b[39m\u001b[38;5;124mom\u001b[39m\u001b[38;5;124m'\u001b[39m\n",
      "\u001b[1;31mTypeError\u001b[0m: 'tuple' object does not support item assignment"
     ]
    }
   ],
   "source": [
    "my_tuple[0]='om'"
   ]
  },
  {
   "cell_type": "code",
   "execution_count": 159,
   "id": "5313723d-904c-411e-a3fe-cababf845009",
   "metadata": {},
   "outputs": [],
   "source": [
    "my_tuple=(\"john\",\"legend\",\"rashi\",\"rashi\")"
   ]
  },
  {
   "cell_type": "code",
   "execution_count": 160,
   "id": "67ac5639-a77f-4c0f-b579-90a8f6a83afd",
   "metadata": {},
   "outputs": [
    {
     "data": {
      "text/plain": [
       "('john', 'legend', 'rashi', 'rashi')"
      ]
     },
     "execution_count": 160,
     "metadata": {},
     "output_type": "execute_result"
    }
   ],
   "source": [
    "my_tuple"
   ]
  },
  {
   "cell_type": "code",
   "execution_count": 161,
   "id": "371828f6-5f29-43f1-8118-8599d767481f",
   "metadata": {},
   "outputs": [
    {
     "data": {
      "text/plain": [
       "2"
      ]
     },
     "execution_count": 161,
     "metadata": {},
     "output_type": "execute_result"
    }
   ],
   "source": [
    "my_tuple.count(\"rashi\")"
   ]
  }
 ],
 "metadata": {
  "kernelspec": {
   "display_name": "Python 3 (ipykernel)",
   "language": "python",
   "name": "python3"
  },
  "language_info": {
   "codemirror_mode": {
    "name": "ipython",
    "version": 3
   },
   "file_extension": ".py",
   "mimetype": "text/x-python",
   "name": "python",
   "nbconvert_exporter": "python",
   "pygments_lexer": "ipython3",
   "version": "3.11.7"
  }
 },
 "nbformat": 4,
 "nbformat_minor": 5
}
