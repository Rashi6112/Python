{
 "cells": [
  {
   "cell_type": "code",
   "execution_count": 1,
   "id": "8e7b9bd3-6479-4ac2-b71b-fbe10b34d877",
   "metadata": {},
   "outputs": [
    {
     "name": "stdout",
     "output_type": "stream",
     "text": [
      "hello world\n",
      "Rashi om Madhur\n",
      "India-Russia  I live in India\n"
     ]
    }
   ],
   "source": [
    "# PRINT FUNCTION\n",
    "print(\"hello world\")\n",
    "print(\"Rashi\",\"om\",\"Madhur\")\n",
    "print(\"India\",\"Russia\",sep=\"-\",end=\"  \")\n",
    "print(\"I live in India\")"
   ]
  },
  {
   "cell_type": "markdown",
   "id": "a4e7c0a9-2580-4040-b7a4-0e9c24661c80",
   "metadata": {
    "jp-MarkdownHeadingCollapsed": true
   },
   "source": [
    "# Data types\n",
    "- Basic types: (integer,float,complex,boolean,string)\n",
    "- Container types: (List,Tuples,Sets,Dictionary)\n",
    "- User defined types: Classes"
   ]
  },
  {
   "cell_type": "code",
   "execution_count": 8,
   "id": "c1db915c-e9f6-42f6-bd94-20bf60b8fbed",
   "metadata": {},
   "outputs": [
    {
     "name": "stdout",
     "output_type": "stream",
     "text": [
      "Basic types\n",
      "1.Integer\n",
      "3\n",
      "1e+308\n",
      "2.float\n",
      "4.5\n",
      "1.7e+308\n",
      "3.complex\n",
      "(4+5j)\n",
      "4.Boolean\n",
      "True\n",
      "5.String\n",
      "Rashi\n",
      "Rashi\n",
      "Rashi\n"
     ]
    }
   ],
   "source": [
    "print(\"Basic types\")\n",
    "print(\"1.Integer\")\n",
    "print(3)\n",
    "print(1e308)\n",
    "print(\"2.float\")\n",
    "print(4.5)\n",
    "print(1.7e308)\n",
    "print(\"3.complex\")\n",
    "print(4+5j)\n",
    "print(\"4.Boolean\")\n",
    "print(True)\n",
    "print(\"5.String\")\n",
    "print('Rashi')\n",
    "print(\"Rashi\")\n",
    "print('''Rashi''')"
   ]
  },
  {
   "cell_type": "code",
   "execution_count": 10,
   "id": "747615dd-7c55-4455-a0ff-614d88edd6d5",
   "metadata": {},
   "outputs": [
    {
     "name": "stdout",
     "output_type": "stream",
     "text": [
      "Container Types\n",
      "1.List\n",
      "[1, 2, 3, 4, 5]\n",
      "2.Sets\n",
      "{1, 2, 3, 4, 5}\n",
      "3.Tuple\n",
      "(1, 2, 3, 4, 5)\n",
      "4.Dictionary\n",
      "{'Name': 'Rashi', 'Age': 22, 'Gender': 'Female'}\n"
     ]
    }
   ],
   "source": [
    "print(\"Container Types\")\n",
    "print(\"1.List\")\n",
    "print([1,2,3,4,5])\n",
    "print(\"2.Sets\")\n",
    "print({1,2,3,4,5})\n",
    "print(\"3.Tuple\")\n",
    "print((1,2,3,4,5))\n",
    "print(\"4.Dictionary\")\n",
    "print({\"Name\":\"Rashi\",\"Age\":22,\"Gender\":\"Female\"})"
   ]
  },
  {
   "cell_type": "markdown",
   "id": "41192833-5223-4652-9b91-7580fe1bafcc",
   "metadata": {
    "jp-MarkdownHeadingCollapsed": true
   },
   "source": [
    "# Variables\n",
    "- Dynamic typing : No need to declare the type (PHP/Python)\n",
    "- They are containers for future use\n",
    "- Dynamic Binding: Data type can be changed for a variables"
   ]
  },
  {
   "cell_type": "code",
   "execution_count": 14,
   "id": "2b1a8efe-95d2-4bbd-bb70-a24d1ebcb141",
   "metadata": {},
   "outputs": [],
   "source": [
    "name=True"
   ]
  },
  {
   "cell_type": "code",
   "execution_count": 15,
   "id": "e9b4f46e-10d4-4973-90e3-66deb9b7edaf",
   "metadata": {},
   "outputs": [
    {
     "name": "stdout",
     "output_type": "stream",
     "text": [
      "True\n"
     ]
    }
   ],
   "source": [
    "print(name)"
   ]
  },
  {
   "cell_type": "code",
   "execution_count": 16,
   "id": "9812abb3-5eb1-4e8c-844d-5f083626a7db",
   "metadata": {},
   "outputs": [
    {
     "name": "stdout",
     "output_type": "stream",
     "text": [
      "Rashi\n"
     ]
    }
   ],
   "source": [
    "name=\"Rashi\"\n",
    "print(name)"
   ]
  },
  {
   "cell_type": "code",
   "execution_count": 17,
   "id": "7a7778d3-2aac-47a8-bcc4-5762fe3124ba",
   "metadata": {},
   "outputs": [
    {
     "name": "stdout",
     "output_type": "stream",
     "text": [
      "5\n",
      "6.5\n",
      "6\n"
     ]
    }
   ],
   "source": [
    "# special syntax\n",
    "a=5;b=6.5;c=6\n",
    "print(a)\n",
    "print(b)\n",
    "print(c)"
   ]
  },
  {
   "cell_type": "code",
   "execution_count": 18,
   "id": "830bc2bd-04ce-45f9-a790-dd466d3dbe00",
   "metadata": {},
   "outputs": [
    {
     "name": "stdout",
     "output_type": "stream",
     "text": [
      "4\n",
      "5.55\n",
      "65\n"
     ]
    }
   ],
   "source": [
    "a,b,c=4,5.55,65\n",
    "print(a)\n",
    "print(b)\n",
    "print(c)"
   ]
  },
  {
   "cell_type": "code",
   "execution_count": 19,
   "id": "833b8f2c-22cf-4e07-a3f1-0be8ce393c68",
   "metadata": {},
   "outputs": [
    {
     "name": "stdout",
     "output_type": "stream",
     "text": [
      "67\n",
      "67\n",
      "67\n"
     ]
    }
   ],
   "source": [
    "a=b=c=67\n",
    "print(a)\n",
    "print(b)\n",
    "print(c)"
   ]
  },
  {
   "cell_type": "markdown",
   "id": "1af92aa9-5f22-4ea4-802b-2196827aee6e",
   "metadata": {
    "jp-MarkdownHeadingCollapsed": true
   },
   "source": [
    "# Keywords"
   ]
  },
  {
   "cell_type": "markdown",
   "id": "f00161f6-4aa8-4b0c-a6fb-73483c59cac8",
   "metadata": {},
   "source": [
    "**Python is case sensitive**"
   ]
  },
  {
   "cell_type": "markdown",
   "id": "5465b16d-6bc9-4be9-a8b3-473ba8d31ebb",
   "metadata": {},
   "source": [
    "- *Keywords*: reserved words, special meanings\n",
    "-  Cannot use as **variable names*\""
   ]
  },
  {
   "cell_type": "code",
   "execution_count": 21,
   "id": "57c1bdf0-e8f2-4dfe-b5bd-0aab695cf591",
   "metadata": {},
   "outputs": [
    {
     "name": "stdout",
     "output_type": "stream",
     "text": [
      "['False', 'None', 'True', 'and', 'as', 'assert', 'async', 'await', 'break', 'class', 'continue', 'def', 'del', 'elif', 'else', 'except', 'finally', 'for', 'from', 'global', 'if', 'import', 'in', 'is', 'lambda', 'nonlocal', 'not', 'or', 'pass', 'raise', 'return', 'try', 'while', 'with', 'yield']\n"
     ]
    }
   ],
   "source": [
    "# Python has 33 keywords.\n",
    "import keyword\n",
    "print(keyword.kwlist)"
   ]
  },
  {
   "cell_type": "markdown",
   "id": "2d722763-cfe4-4367-be7f-dec92c668d61",
   "metadata": {
    "jp-MarkdownHeadingCollapsed": true
   },
   "source": [
    "# Identifiers"
   ]
  },
  {
   "cell_type": "markdown",
   "id": "89e82785-cd9f-4093-ac7d-a2460cfd6e31",
   "metadata": {},
   "source": [
    "**Identifiers** are name for var, func, class, module, etc."
   ]
  },
  {
   "cell_type": "markdown",
   "id": "525f8288-5420-4e0f-8c3f-e001184ae79e",
   "metadata": {},
   "source": [
    "**Rules**\n",
    "- Start with letter or _\n",
    "- Followed by letters, digits, _\n",
    "- Not a Python keyword"
   ]
  },
  {
   "cell_type": "code",
   "execution_count": 22,
   "id": "62395383-a692-4812-a859-cf2b60f2b1bc",
   "metadata": {},
   "outputs": [
    {
     "name": "stdout",
     "output_type": "stream",
     "text": [
      "Saurabh\n"
     ]
    }
   ],
   "source": [
    "\n",
    "name = 'Saurabh'\n",
    "print(name)"
   ]
  },
  {
   "cell_type": "code",
   "execution_count": 23,
   "id": "995916bd-58f9-4201-9af8-293bc32ae3d8",
   "metadata": {},
   "outputs": [
    {
     "name": "stdout",
     "output_type": "stream",
     "text": [
      "Saurabh\n"
     ]
    }
   ],
   "source": [
    "_ = 'Saurabh'\n",
    "print(_)"
   ]
  },
  {
   "cell_type": "code",
   "execution_count": 24,
   "id": "b032a009-7558-429e-8783-49afbf4a382c",
   "metadata": {},
   "outputs": [
    {
     "name": "stdout",
     "output_type": "stream",
     "text": [
      "Saurabh\n"
     ]
    }
   ],
   "source": [
    "\n",
    "first_name = 'Saurabh'\n",
    "print(first_name)"
   ]
  },
  {
   "cell_type": "code",
   "execution_count": 25,
   "id": "ab0d6e9f-0d89-4774-b40d-a5635c67ee4a",
   "metadata": {},
   "outputs": [
    {
     "ename": "SyntaxError",
     "evalue": "cannot assign to False (1676416165.py, line 1)",
     "output_type": "error",
     "traceback": [
      "\u001b[1;36m  Cell \u001b[1;32mIn[25], line 1\u001b[1;36m\u001b[0m\n\u001b[1;33m    False = 'Saurabh'\u001b[0m\n\u001b[1;37m    ^\u001b[0m\n\u001b[1;31mSyntaxError\u001b[0m\u001b[1;31m:\u001b[0m cannot assign to False\n"
     ]
    }
   ],
   "source": [
    "False = 'Saurabh'\n",
    "print(False)"
   ]
  },
  {
   "cell_type": "markdown",
   "id": "2c252d74-bdfd-4f2a-8cfa-e318d7fca300",
   "metadata": {
    "jp-MarkdownHeadingCollapsed": true
   },
   "source": [
    "# Taking user input and type conversion"
   ]
  },
  {
   "cell_type": "code",
   "execution_count": 30,
   "id": "2f52961c-fff5-43e1-b736-4c3cff55b0be",
   "metadata": {},
   "outputs": [
    {
     "name": "stdin",
     "output_type": "stream",
     "text": [
      "What's your Rashi?  Rashi\n"
     ]
    },
    {
     "data": {
      "text/plain": [
       "'Rashi'"
      ]
     },
     "execution_count": 30,
     "metadata": {},
     "output_type": "execute_result"
    }
   ],
   "source": [
    "input(\"What's your Rashi? \")"
   ]
  },
  {
   "cell_type": "code",
   "execution_count": 32,
   "id": "36cbcfd1-70ce-44f8-8816-356dadc27a64",
   "metadata": {},
   "outputs": [
    {
     "name": "stdin",
     "output_type": "stream",
     "text": [
      "Enter first num  12\n",
      "Enter second num  12\n"
     ]
    },
    {
     "name": "stdout",
     "output_type": "stream",
     "text": [
      "1212\n"
     ]
    }
   ],
   "source": [
    "first_num=input(\"Enter first num \")\n",
    "second_num=input(\"Enter second num \")\n",
    "result=first_num+second_num\n",
    "print(result)"
   ]
  },
  {
   "cell_type": "code",
   "execution_count": 33,
   "id": "03f43740-ae50-495e-9d41-89a50de7ecc9",
   "metadata": {},
   "outputs": [
    {
     "data": {
      "text/plain": [
       "str"
      ]
     },
     "execution_count": 33,
     "metadata": {},
     "output_type": "execute_result"
    }
   ],
   "source": [
    "# type function\n",
    "type(first_num)"
   ]
  },
  {
   "cell_type": "code",
   "execution_count": 34,
   "id": "390f68b6-5845-4a62-8ade-5d402d6cbf24",
   "metadata": {},
   "outputs": [
    {
     "data": {
      "text/plain": [
       "'12'"
      ]
     },
     "execution_count": 34,
     "metadata": {},
     "output_type": "execute_result"
    }
   ],
   "source": [
    "first_num"
   ]
  },
  {
   "cell_type": "markdown",
   "id": "ed7e0dd1-983c-49d0-9164-2a418f9b7b09",
   "metadata": {
    "jp-MarkdownHeadingCollapsed": true
   },
   "source": [
    "# Type conversion\n",
    "- **implict** --type conversion done in auto by python\n",
    "- **explicit**--type conversion is given by user"
   ]
  },
  {
   "cell_type": "code",
   "execution_count": 39,
   "id": "243aaedf-b87a-4f1c-8d27-ca5d321e7c27",
   "metadata": {},
   "outputs": [
    {
     "data": {
      "text/plain": [
       "13.5"
      ]
     },
     "execution_count": 39,
     "metadata": {},
     "output_type": "execute_result"
    }
   ],
   "source": [
    "4+9.5"
   ]
  },
  {
   "cell_type": "code",
   "execution_count": 40,
   "id": "159b653d-f313-4972-9e63-bd3658e6a62b",
   "metadata": {},
   "outputs": [
    {
     "data": {
      "text/plain": [
       "(9.5+6j)"
      ]
     },
     "execution_count": 40,
     "metadata": {},
     "output_type": "execute_result"
    }
   ],
   "source": [
    "5+4.5+6j"
   ]
  },
  {
   "cell_type": "code",
   "execution_count": 41,
   "id": "4e08ad9a-bf2c-4010-9b0b-e2551b81d2d4",
   "metadata": {},
   "outputs": [
    {
     "data": {
      "text/plain": [
       "True"
      ]
     },
     "execution_count": 41,
     "metadata": {},
     "output_type": "execute_result"
    }
   ],
   "source": [
    "bool(1)"
   ]
  },
  {
   "cell_type": "code",
   "execution_count": 42,
   "id": "e84f65ec-8d86-4dfa-b4ca-62c1a196af96",
   "metadata": {},
   "outputs": [
    {
     "name": "stdout",
     "output_type": "stream",
     "text": [
      "10.6\n",
      "<class 'int'> <class 'float'>\n"
     ]
    },
    {
     "ename": "TypeError",
     "evalue": "unsupported operand type(s) for +: 'int' and 'str'",
     "output_type": "error",
     "traceback": [
      "\u001b[1;31m---------------------------------------------------------------------------\u001b[0m",
      "\u001b[1;31mTypeError\u001b[0m                                 Traceback (most recent call last)",
      "Cell \u001b[1;32mIn[42], line 4\u001b[0m\n\u001b[0;32m      2\u001b[0m \u001b[38;5;28mprint\u001b[39m(\u001b[38;5;241m5\u001b[39m \u001b[38;5;241m+\u001b[39m \u001b[38;5;241m5.6\u001b[39m)            \u001b[38;5;66;03m# Implicit: int + float → float\u001b[39;00m\n\u001b[0;32m      3\u001b[0m \u001b[38;5;28mprint\u001b[39m(\u001b[38;5;28mtype\u001b[39m(\u001b[38;5;241m5\u001b[39m), \u001b[38;5;28mtype\u001b[39m(\u001b[38;5;241m5.6\u001b[39m)) \u001b[38;5;66;03m# Show types: int, float\u001b[39;00m\n\u001b[1;32m----> 4\u001b[0m \u001b[38;5;28mprint\u001b[39m(\u001b[38;5;241m4\u001b[39m \u001b[38;5;241m+\u001b[39m \u001b[38;5;124m'\u001b[39m\u001b[38;5;124m4\u001b[39m\u001b[38;5;124m'\u001b[39m)\n",
      "\u001b[1;31mTypeError\u001b[0m: unsupported operand type(s) for +: 'int' and 'str'"
     ]
    }
   ],
   "source": [
    "# Implicit Vs Explicit\n",
    "print(5 + 5.6)            # Implicit: int + float → float\n",
    "print(type(5), type(5.6)) # Show types: int, float\n",
    "print(4 + '4')            # Error: no implicit int + str"
   ]
  },
  {
   "cell_type": "code",
   "execution_count": 43,
   "id": "ff0b98e7-0a3a-4893-bd0d-aa209cb9f1ed",
   "metadata": {},
   "outputs": [
    {
     "data": {
      "text/plain": [
       "5"
      ]
     },
     "execution_count": 43,
     "metadata": {},
     "output_type": "execute_result"
    }
   ],
   "source": [
    "int(5.6)"
   ]
  },
  {
   "cell_type": "code",
   "execution_count": 44,
   "id": "168c0b78-7ae5-4bce-8899-919a8f47695c",
   "metadata": {},
   "outputs": [
    {
     "data": {
      "text/plain": [
       "4.0"
      ]
     },
     "execution_count": 44,
     "metadata": {},
     "output_type": "execute_result"
    }
   ],
   "source": [
    "float(4)"
   ]
  },
  {
   "cell_type": "code",
   "execution_count": 46,
   "id": "ff0a83a5-6d1b-42a1-8d94-0c3c507c6689",
   "metadata": {},
   "outputs": [
    {
     "data": {
      "text/plain": [
       "True"
      ]
     },
     "execution_count": 46,
     "metadata": {},
     "output_type": "execute_result"
    }
   ],
   "source": [
    "bool(1)"
   ]
  },
  {
   "cell_type": "code",
   "execution_count": 47,
   "id": "ae4cfca9-c274-4563-b23f-cdf10d1def99",
   "metadata": {},
   "outputs": [
    {
     "data": {
      "text/plain": [
       "(2+0j)"
      ]
     },
     "execution_count": 47,
     "metadata": {},
     "output_type": "execute_result"
    }
   ],
   "source": [
    "complex(2)"
   ]
  },
  {
   "cell_type": "code",
   "execution_count": 48,
   "id": "57991628-bd35-4ff4-b553-2ee841c76dfa",
   "metadata": {},
   "outputs": [
    {
     "data": {
      "text/plain": [
       "'8'"
      ]
     },
     "execution_count": 48,
     "metadata": {},
     "output_type": "execute_result"
    }
   ],
   "source": [
    "str(8)"
   ]
  },
  {
   "cell_type": "code",
   "execution_count": 49,
   "id": "0bbe346c-2ddc-4691-9499-39cb8852d42d",
   "metadata": {},
   "outputs": [
    {
     "data": {
      "text/plain": [
       "['h', 'e', 'l', 'l', 'o']"
      ]
     },
     "execution_count": 49,
     "metadata": {},
     "output_type": "execute_result"
    }
   ],
   "source": [
    "list(\"hello\")"
   ]
  },
  {
   "cell_type": "code",
   "execution_count": 50,
   "id": "36d7277f-c5dd-4df7-8f51-5f17a365e921",
   "metadata": {},
   "outputs": [
    {
     "data": {
      "text/plain": [
       "('H', 'e', 'l', 'l', 'o')"
      ]
     },
     "execution_count": 50,
     "metadata": {},
     "output_type": "execute_result"
    }
   ],
   "source": [
    "tuple(\"Hello\")"
   ]
  },
  {
   "cell_type": "code",
   "execution_count": 56,
   "id": "14643e4e-3461-41d5-b1b6-c60382ac1394",
   "metadata": {},
   "outputs": [
    {
     "data": {
      "text/plain": [
       "{'E', 'H', 'l', 'o'}"
      ]
     },
     "execution_count": 56,
     "metadata": {},
     "output_type": "execute_result"
    }
   ],
   "source": [
    "set(\"HEllo\")"
   ]
  },
  {
   "cell_type": "code",
   "execution_count": 57,
   "id": "f6c73a29-4690-41e0-aaef-a3076347943b",
   "metadata": {},
   "outputs": [],
   "source": [
    "a=9.8"
   ]
  },
  {
   "cell_type": "code",
   "execution_count": 58,
   "id": "6cd4f9f3-fc04-408b-aa08-3df9b9245f03",
   "metadata": {},
   "outputs": [
    {
     "data": {
      "text/plain": [
       "9"
      ]
     },
     "execution_count": 58,
     "metadata": {},
     "output_type": "execute_result"
    }
   ],
   "source": [
    "int(a)"
   ]
  },
  {
   "cell_type": "code",
   "execution_count": 59,
   "id": "42891126-ff09-436c-8d59-cd74221628c0",
   "metadata": {},
   "outputs": [
    {
     "data": {
      "text/plain": [
       "9.8"
      ]
     },
     "execution_count": 59,
     "metadata": {},
     "output_type": "execute_result"
    }
   ],
   "source": [
    "a"
   ]
  },
  {
   "cell_type": "code",
   "execution_count": 60,
   "id": "f7abfb5a-aed0-4852-8212-5baf4dc54799",
   "metadata": {},
   "outputs": [
    {
     "name": "stdin",
     "output_type": "stream",
     "text": [
      "Enter first number:  23\n",
      "Enter second number:  234\n"
     ]
    },
    {
     "name": "stdout",
     "output_type": "stream",
     "text": [
      "257\n"
     ]
    }
   ],
   "source": [
    "first_num = input(\"Enter first number: \")\n",
    "second_num = input(\"Enter second number: \")\n",
    "result = int(first_num) + int(second_num)\n",
    "print(result)"
   ]
  },
  {
   "cell_type": "code",
   "execution_count": 61,
   "id": "7b6ed7ff-a9b5-4a69-8faf-4b18bb63f4c7",
   "metadata": {},
   "outputs": [
    {
     "name": "stdin",
     "output_type": "stream",
     "text": [
      "Enter first number:  45\n",
      "Enter second number:  56\n"
     ]
    },
    {
     "name": "stdout",
     "output_type": "stream",
     "text": [
      "101\n"
     ]
    }
   ],
   "source": [
    "first_num = int(input(\"Enter first number: \"))\n",
    "second_num = int(input(\"Enter second number: \"))\n",
    "result = first_num + second_num\n",
    "print(result)"
   ]
  },
  {
   "cell_type": "markdown",
   "id": "a8aebc44-ab24-445f-b925-5e35162a0fb2",
   "metadata": {
    "jp-MarkdownHeadingCollapsed": true
   },
   "source": [
    "# Literals"
   ]
  },
  {
   "cell_type": "markdown",
   "id": "a73dbe8e-536b-4168-a822-ea16fb62102c",
   "metadata": {},
   "source": [
    "Literals = basic **data values** for variables.literals"
   ]
  },
  {
   "cell_type": "markdown",
   "id": "39791c57-5898-440c-9b38-1d0ab80a1dc5",
   "metadata": {},
   "source": [
    "\n",
    "Types in Python:\n",
    "\n",
    "\n",
    "- *Numeric literals*\n",
    "- *String literals*\n",
    "- *Boolean literals*\n",
    "- *Special literals*"
   ]
  },
  {
   "cell_type": "markdown",
   "id": "6bdb548c-86c1-4543-b456-1ed60cc1f3c6",
   "metadata": {
    "jp-MarkdownHeadingCollapsed": true
   },
   "source": [
    "# Numeric literals"
   ]
  },
  {
   "cell_type": "code",
   "execution_count": 63,
   "id": "8807f831-ea0b-4e2b-91c2-44bb9300274f",
   "metadata": {},
   "outputs": [
    {
     "name": "stdout",
     "output_type": "stream",
     "text": [
      "10 100 200 300\n",
      "10.5 150.0 0.0015\n",
      "3.14j 3.14 0.0\n"
     ]
    }
   ],
   "source": [
    "# Integer Literals\n",
    "a = 0b1010  # Binary\n",
    "b = 100     # Decimal\n",
    "c = 0o310   # Octal\n",
    "d = 0x12c   # Hex\n",
    "\n",
    "# Float Literals\n",
    "f1 = 10.5\n",
    "f2 = 1.5e2\n",
    "f3 = 1.5e-3\n",
    "\n",
    "# Complex Literal\n",
    "x = 3.14j\n",
    "\n",
    "print(a, b, c, d)\n",
    "print(f1, f2, f3)\n",
    "print(x, x.imag, x.real)"
   ]
  },
  {
   "cell_type": "markdown",
   "id": "9ea47046-055b-416a-9e8e-c86a7ffede4a",
   "metadata": {
    "jp-MarkdownHeadingCollapsed": true
   },
   "source": [
    "# String literals"
   ]
  },
  {
   "cell_type": "code",
   "execution_count": 68,
   "id": "914233aa-91b7-45b8-b80a-59427f7e2132",
   "metadata": {},
   "outputs": [
    {
     "name": "stdout",
     "output_type": "stream",
     "text": [
      "This is Python\n",
      "This is Python\n",
      "C\n",
      "This is a multiline string with more than one line code.\n",
      "💓💞💛\n",
      "raw \\n string\n"
     ]
    }
   ],
   "source": [
    "string = 'This is Python'\n",
    "strings = \"This is Python\"\n",
    "char = \"C\"\n",
    "multiline_str = \"\"\"This is a multiline string with more than one line code.\"\"\"\n",
    "unicode = u\"\\U0001f493\\U0001F49E\\U0001F49B\"\n",
    "raw_str = r\"raw \\n string\"\n",
    "\n",
    "print(string)\n",
    "print(strings)\n",
    "print(char)\n",
    "print(multiline_str)\n",
    "print(unicode)\n",
    "print(raw_str)"
   ]
  },
  {
   "cell_type": "markdown",
   "id": "037671e2-8506-47a3-8d04-60b472c3e8f2",
   "metadata": {
    "jp-MarkdownHeadingCollapsed": true
   },
   "source": [
    "# Boolean literals"
   ]
  },
  {
   "cell_type": "code",
   "execution_count": 70,
   "id": "1d693558-2a83-4b6b-9ace-f161b5e82a54",
   "metadata": {},
   "outputs": [
    {
     "name": "stdout",
     "output_type": "stream",
     "text": [
      "a: 4\n",
      "b: 12\n"
     ]
    }
   ],
   "source": [
    "a=False+4\n",
    "b=True+11\n",
    "print(\"a:\",a)\n",
    "print(\"b:\",b)"
   ]
  },
  {
   "cell_type": "markdown",
   "id": "0882d1e2-20cd-44e8-a7e1-372b3e3922fb",
   "metadata": {
    "jp-MarkdownHeadingCollapsed": true
   },
   "source": [
    "# Special literals"
   ]
  },
  {
   "cell_type": "code",
   "execution_count": 72,
   "id": "0f8323eb-d0d9-4889-895d-f03e218ff771",
   "metadata": {},
   "outputs": [
    {
     "name": "stdout",
     "output_type": "stream",
     "text": [
      "None\n"
     ]
    }
   ],
   "source": [
    "# used for variable declaration\n",
    "a=None \n",
    "print(a)"
   ]
  },
  {
   "cell_type": "markdown",
   "id": "5311e01e-fd49-4897-9f93-5fbfdb2488d5",
   "metadata": {
    "jp-MarkdownHeadingCollapsed": true
   },
   "source": [
    "# Operators"
   ]
  },
  {
   "cell_type": "markdown",
   "id": "bf6563a0-da44-4361-a8dd-318ced550713",
   "metadata": {},
   "source": [
    "- Arthimetic operators\n",
    "- Comparison operators\n",
    "- Logical operators\n",
    "- Bitwise operators\n",
    "- Assignment operators\n",
    "- Membership Operators"
   ]
  },
  {
   "cell_type": "markdown",
   "id": "00e572d5-e70f-49d2-8811-397a4cb33b5e",
   "metadata": {},
   "source": [
    "**1. Arthimetic Operators**"
   ]
  },
  {
   "cell_type": "code",
   "execution_count": 73,
   "id": "c9eade4b-babe-4b79-ac48-d27435d82616",
   "metadata": {},
   "outputs": [],
   "source": [
    "x=5\n",
    "y=2"
   ]
  },
  {
   "cell_type": "code",
   "execution_count": 75,
   "id": "bf4ebab5-f193-4761-9b85-8aa91333cbf1",
   "metadata": {},
   "outputs": [
    {
     "name": "stdout",
     "output_type": "stream",
     "text": [
      "7\n",
      "3\n",
      "10\n",
      "2.5\n",
      "1\n",
      "25\n",
      "2\n"
     ]
    }
   ],
   "source": [
    "print(x+y)\n",
    "print(x-y)\n",
    "print(x*y)\n",
    "print(x/y) # true division\n",
    "print(x%y) # modulus\n",
    "print(x**y) #power of\n",
    "print(x//y) #Integer division"
   ]
  },
  {
   "cell_type": "markdown",
   "id": "a2fa4903-f661-494d-bb3c-78f4f7932e14",
   "metadata": {},
   "source": [
    "**2. Comparison Operators**"
   ]
  },
  {
   "cell_type": "code",
   "execution_count": 76,
   "id": "93dcba3e-8822-4a6b-ac10-b3c9eb7332ed",
   "metadata": {},
   "outputs": [
    {
     "name": "stdout",
     "output_type": "stream",
     "text": [
      "True\n",
      "False\n",
      "False\n",
      "True\n",
      "False\n",
      "True\n"
     ]
    }
   ],
   "source": [
    "print(x>y)\n",
    "print(x<y)\n",
    "print(x<=y)\n",
    "print(x>=y)\n",
    "print(x==y)\n",
    "print(x!=y)"
   ]
  },
  {
   "cell_type": "markdown",
   "id": "7316f5a5-4084-41ba-ba21-1d93ccf44716",
   "metadata": {},
   "source": [
    "**3. Logical Operators**"
   ]
  },
  {
   "cell_type": "code",
   "execution_count": 78,
   "id": "fc158c81-5a03-4e57-8d18-6cdd87d49fc6",
   "metadata": {},
   "outputs": [
    {
     "name": "stdout",
     "output_type": "stream",
     "text": [
      "True\n",
      "False\n",
      "False\n"
     ]
    }
   ],
   "source": [
    "x=True\n",
    "y=False\n",
    "print(x or y)\n",
    "print(x and y)\n",
    "print(not x)"
   ]
  },
  {
   "cell_type": "markdown",
   "id": "1267f7f7-8c66-42e2-be44-87bddff6c051",
   "metadata": {},
   "source": [
    "**4. Bitwise Operators**"
   ]
  },
  {
   "cell_type": "code",
   "execution_count": 83,
   "id": "efca2a83-48f6-44b0-b99d-24fb96163c3c",
   "metadata": {},
   "outputs": [
    {
     "name": "stdout",
     "output_type": "stream",
     "text": [
      "2\n",
      "3\n",
      "0\n",
      "24\n",
      "-3\n"
     ]
    }
   ],
   "source": [
    "x=2\n",
    "y=3\n",
    "print(x&y)\n",
    "print(x|y)\n",
    "print(x>>2)\n",
    "print(y<<3)\n",
    "print(~x)"
   ]
  },
  {
   "cell_type": "markdown",
   "id": "c5b71e4c-5243-4362-8b73-0df9bcd483e0",
   "metadata": {},
   "source": [
    "**5. Assignment Operators**"
   ]
  },
  {
   "cell_type": "code",
   "execution_count": 89,
   "id": "09e9df9c-1f78-4c28-bb3e-01cb88c97cf0",
   "metadata": {},
   "outputs": [
    {
     "name": "stdout",
     "output_type": "stream",
     "text": [
      "3\n",
      "6\n",
      "3\n",
      "9\n",
      "True\n",
      "True\n",
      "False\n",
      "False\n"
     ]
    }
   ],
   "source": [
    "a=3\n",
    "print(a)\n",
    "a+=3\n",
    "print(a)\n",
    "a-=3\n",
    "print(a)\n",
    "a*=3\n",
    "print(a)\n",
    "# itentity operator\n",
    "a=3\n",
    "b=3\n",
    "print(a is b)\n",
    "a=\"rashi\"\n",
    "b=\"rashi\"\n",
    "print(a is b)\n",
    "a=[1,2,3]\n",
    "b=[1,2,3]\n",
    "print(a is b)\n",
    "a=\"rashi-om\"\n",
    "b=\"rashi-om\"\n",
    "print(a is b)"
   ]
  },
  {
   "cell_type": "markdown",
   "id": "ba08437e-2edf-42be-992d-ca5aa1417df2",
   "metadata": {},
   "source": [
    "**6. Membership Operators**"
   ]
  },
  {
   "cell_type": "code",
   "execution_count": 90,
   "id": "66b7224e-3854-427b-bf63-70e698f375a9",
   "metadata": {},
   "outputs": [
    {
     "name": "stdout",
     "output_type": "stream",
     "text": [
      "True\n"
     ]
    }
   ],
   "source": [
    "x=\"Maharshtra\"\n",
    "print(\"M\" in x)"
   ]
  },
  {
   "cell_type": "code",
   "execution_count": 93,
   "id": "71ee59de-12d4-4de2-86dc-48e23ee25604",
   "metadata": {},
   "outputs": [
    {
     "name": "stdout",
     "output_type": "stream",
     "text": [
      "True\n"
     ]
    }
   ],
   "source": [
    "print(\"D\" not in x)"
   ]
  },
  {
   "cell_type": "code",
   "execution_count": null,
   "id": "6373925f-989d-4a4f-a834-660d69f368b8",
   "metadata": {},
   "outputs": [],
   "source": []
  }
 ],
 "metadata": {
  "kernelspec": {
   "display_name": "Python 3 (ipykernel)",
   "language": "python",
   "name": "python3"
  },
  "language_info": {
   "codemirror_mode": {
    "name": "ipython",
    "version": 3
   },
   "file_extension": ".py",
   "mimetype": "text/x-python",
   "name": "python",
   "nbconvert_exporter": "python",
   "pygments_lexer": "ipython3",
   "version": "3.11.7"
  }
 },
 "nbformat": 4,
 "nbformat_minor": 5
}
