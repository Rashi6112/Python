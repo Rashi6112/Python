{
 "cells": [
  {
   "cell_type": "markdown",
   "id": "c8775738-da68-4072-a9cd-df6ed052884e",
   "metadata": {},
   "source": [
    "# Indentation"
   ]
  },
  {
   "cell_type": "code",
   "execution_count": 7,
   "id": "a84f6c35-139c-4ccd-8c37-cfd9e380cd2b",
   "metadata": {},
   "outputs": [
    {
     "ename": "SyntaxError",
     "evalue": "invalid syntax (1884557588.py, line 2)",
     "output_type": "error",
     "traceback": [
      "\u001b[1;36m  Cell \u001b[1;32mIn[7], line 2\u001b[1;36m\u001b[0m\n\u001b[1;33m    if(name == \"xyz\"){\u001b[0m\n\u001b[1;37m                     ^\u001b[0m\n\u001b[1;31mSyntaxError\u001b[0m\u001b[1;31m:\u001b[0m invalid syntax\n"
     ]
    }
   ],
   "source": [
    "# In Other Languages\n",
    "if(name == \"xyz\"){\n",
    "    something;\n",
    "    something;\n",
    "}else{\n",
    "    something else;\n",
    "    something else;\n",
    "}"
   ]
  },
  {
   "cell_type": "code",
   "execution_count": 8,
   "id": "57d652ca-4468-4ae8-94ab-3a4887b1439e",
   "metadata": {},
   "outputs": [
    {
     "name": "stdout",
     "output_type": "stream",
     "text": [
      "line1\n",
      "line2\n",
      "line5\n"
     ]
    }
   ],
   "source": [
    "# In Python\n",
    "name = \"xyz\"\n",
    "if name == \"xyz\":\n",
    "    print(\"line1\")\n",
    "    print(\"line2\")\n",
    "    if 5 == 5:\n",
    "        print(\"line5\")\n",
    "else:\n",
    "    print(\"line3\")"
   ]
  },
  {
   "cell_type": "markdown",
   "id": "0b15ac9b-e336-45d3-bd0f-bfc37bc601ef",
   "metadata": {},
   "source": [
    "# If else statements"
   ]
  },
  {
   "cell_type": "code",
   "execution_count": 5,
   "id": "2054a92b-5f6b-4b6b-96c6-171a6443c631",
   "metadata": {},
   "outputs": [
    {
     "name": "stdin",
     "output_type": "stream",
     "text": [
      "Kindly provide your email Id :  rashi\n",
      "Plase enter your passkey:  jaksh\n"
     ]
    },
    {
     "name": "stdout",
     "output_type": "stream",
     "text": [
      "Please enter valid credentials\n"
     ]
    }
   ],
   "source": [
    "# correct mail : abc@gmail.com\n",
    "# corect password : 12345\n",
    "username=input(\"Kindly provide your email Id : \")\n",
    "password=input(\"Plase enter your passkey: \")\n",
    "if username==\"abc@gmail.com\" and password==\"12345\":\n",
    "    print(\"Welcome\")\n",
    "else:\n",
    "    print(\"Please enter valid credentials\")"
   ]
  },
  {
   "cell_type": "code",
   "execution_count": 3,
   "id": "c307cbe8-a683-426d-a71a-992da90611fd",
   "metadata": {},
   "outputs": [
    {
     "name": "stdin",
     "output_type": "stream",
     "text": [
      "Kindly provide your email Id :  abc@gmail.com\n",
      "Plase enter your passkey:  1234567\n"
     ]
    },
    {
     "name": "stdout",
     "output_type": "stream",
     "text": [
      "Password Incorrect\n"
     ]
    },
    {
     "name": "stdin",
     "output_type": "stream",
     "text": [
      "Please enter your password  12345\n"
     ]
    },
    {
     "name": "stdout",
     "output_type": "stream",
     "text": [
      "Finally correct\n"
     ]
    }
   ],
   "source": [
    "username=input(\"Kindly provide your email Id : \")\n",
    "password=input(\"Plase enter your passkey: \")\n",
    "if username==\"abc@gmail.com\" and password==\"12345\":\n",
    "    print(\"Welcome\")\n",
    "elif username==\"abc@gmail.com\" and  password!=\"12345\":\n",
    "    print(\"Password Incorrect\")\n",
    "    password=input(\"Please enter your password \")\n",
    "    if password==\"12345\":\n",
    "        print(\"Finally correct\")\n",
    "    else:\n",
    "        print(\"Still Incorrect\")\n",
    "else:\n",
    "    print(\"Please enter valid credentials\")"
   ]
  },
  {
   "cell_type": "code",
   "execution_count": 4,
   "id": "d94725f5-b45d-4881-83a1-114000fe843f",
   "metadata": {},
   "outputs": [
    {
     "name": "stdin",
     "output_type": "stream",
     "text": [
      "Kindly provide your email Id :  abcdgmail.com\n"
     ]
    },
    {
     "name": "stdout",
     "output_type": "stream",
     "text": [
      "Please enter valid credentials\n"
     ]
    }
   ],
   "source": [
    "username=input(\"Kindly provide your email Id : \")\n",
    "if \"@\" in username:\n",
    "    password=input(\"Plase enter your passkey: \")\n",
    "    if username==\"abc@gmail.com\" and password==\"12345\":\n",
    "        print(\"Welcome\")\n",
    "    elif username==\"abc@gmail.com\" and  password!=\"12345\":\n",
    "        print(\"Password Incorrect\")\n",
    "        password=input(\"Please enter your password \")\n",
    "        if password==\"12345\":\n",
    "            print(\"Finally correct\")\n",
    "        else:\n",
    "            print(\"Still Incorrect\")\n",
    "else:\n",
    "    print(\"Please enter valid credentials\")"
   ]
  },
  {
   "cell_type": "markdown",
   "id": "d826f5fa-a9d1-4448-8668-b57439b60052",
   "metadata": {},
   "source": [
    "# While loop"
   ]
  },
  {
   "cell_type": "code",
   "execution_count": 10,
   "id": "00e5bb3a-7b25-4ada-9691-f86c26db0870",
   "metadata": {},
   "outputs": [
    {
     "name": "stdin",
     "output_type": "stream",
     "text": [
      "Enter a number 10\n"
     ]
    },
    {
     "name": "stdout",
     "output_type": "stream",
     "text": [
      "10 x 1 = 10\n",
      "10 x 2 = 20\n",
      "10 x 3 = 30\n",
      "10 x 4 = 40\n",
      "10 x 5 = 50\n",
      "10 x 6 = 60\n",
      "10 x 7 = 70\n",
      "10 x 8 = 80\n",
      "10 x 9 = 90\n",
      "10 x 10 = 100\n"
     ]
    }
   ],
   "source": [
    "num=int(input(\"Enter a number\"))\n",
    "i=1\n",
    "while i<11:\n",
    "    print(num,\"x\",i,\"=\",num*i)\n",
    "    i+=1"
   ]
  },
  {
   "cell_type": "markdown",
   "id": "232b30d1-b555-400e-85ea-ac47e3b3b924",
   "metadata": {},
   "source": [
    "# Guessing Game"
   ]
  },
  {
   "cell_type": "code",
   "execution_count": 11,
   "id": "25e8e1fb-e2e9-44b0-9920-d4c69a3cad93",
   "metadata": {},
   "outputs": [],
   "source": [
    "import random"
   ]
  },
  {
   "cell_type": "code",
   "execution_count": 15,
   "id": "f5914f89-c916-4baa-a28f-d8ab1bef8850",
   "metadata": {},
   "outputs": [
    {
     "data": {
      "text/plain": [
       "6"
      ]
     },
     "execution_count": 15,
     "metadata": {},
     "output_type": "execute_result"
    }
   ],
   "source": [
    "random.randint(1,100)"
   ]
  },
  {
   "cell_type": "code",
   "execution_count": 16,
   "id": "b6a68b66-6293-4e5c-bf90-4cc7aec55035",
   "metadata": {},
   "outputs": [
    {
     "name": "stdin",
     "output_type": "stream",
     "text": [
      "Guess the number 23\n"
     ]
    },
    {
     "name": "stdout",
     "output_type": "stream",
     "text": [
      "Guess Higher\n"
     ]
    },
    {
     "name": "stdin",
     "output_type": "stream",
     "text": [
      "Guess the number 46\n"
     ]
    },
    {
     "name": "stdout",
     "output_type": "stream",
     "text": [
      "Guess Higher\n"
     ]
    },
    {
     "name": "stdin",
     "output_type": "stream",
     "text": [
      "Guess the number 67\n"
     ]
    },
    {
     "name": "stdout",
     "output_type": "stream",
     "text": [
      "Guess Lower\n"
     ]
    },
    {
     "name": "stdin",
     "output_type": "stream",
     "text": [
      "Guess the number 57\n"
     ]
    },
    {
     "name": "stdout",
     "output_type": "stream",
     "text": [
      "Guess Lower\n"
     ]
    },
    {
     "name": "stdin",
     "output_type": "stream",
     "text": [
      "Guess the number 50\n"
     ]
    },
    {
     "name": "stdout",
     "output_type": "stream",
     "text": [
      "Guess Higher\n"
     ]
    },
    {
     "name": "stdin",
     "output_type": "stream",
     "text": [
      "Guess the number 55\n"
     ]
    },
    {
     "name": "stdout",
     "output_type": "stream",
     "text": [
      "Guess Lower\n"
     ]
    },
    {
     "name": "stdin",
     "output_type": "stream",
     "text": [
      "Guess the number 54\n"
     ]
    },
    {
     "name": "stdout",
     "output_type": "stream",
     "text": [
      "Guess Lower\n"
     ]
    },
    {
     "name": "stdin",
     "output_type": "stream",
     "text": [
      "Guess the number 53\n"
     ]
    },
    {
     "name": "stdout",
     "output_type": "stream",
     "text": [
      "Guess Lower\n"
     ]
    },
    {
     "name": "stdin",
     "output_type": "stream",
     "text": [
      "Guess the number 51\n"
     ]
    },
    {
     "name": "stdout",
     "output_type": "stream",
     "text": [
      "Correct guess\n",
      "No of attempts taken  9  times\n"
     ]
    }
   ],
   "source": [
    "jackpot=random.randint(1,100)\n",
    "guess=int(input(\"Guess the number\"))\n",
    "count=1\n",
    "while guess!=jackpot:\n",
    "    if guess<jackpot:\n",
    "        print(\"Guess Higher\")\n",
    "    else:\n",
    "        print(\"Guess Lower\")\n",
    "    guess=int(input(\"Guess the number\"))\n",
    "    count+=1\n",
    "print(\"Correct guess\")\n",
    "print(\"No of attempts taken \",count,\" times\")"
   ]
  },
  {
   "cell_type": "markdown",
   "id": "25f6cc26-10f0-405a-a0b9-8522e42147f3",
   "metadata": {},
   "source": [
    "# For loop"
   ]
  },
  {
   "cell_type": "code",
   "execution_count": 19,
   "id": "e0f7daaa-4393-414a-9f40-c443b008d121",
   "metadata": {},
   "outputs": [
    {
     "data": {
      "text/plain": [
       "[1, 2, 3, 4, 5, 6, 7, 8, 9, 10]"
      ]
     },
     "execution_count": 19,
     "metadata": {},
     "output_type": "execute_result"
    }
   ],
   "source": [
    "# range function\n",
    "range(1,11)\n",
    "list(range(1,11))"
   ]
  },
  {
   "cell_type": "code",
   "execution_count": 21,
   "id": "64d5f57f-7766-411e-a7a0-1ea9eab9885b",
   "metadata": {},
   "outputs": [
    {
     "data": {
      "text/plain": [
       "[0, 1, 2, 3, 4]"
      ]
     },
     "execution_count": 21,
     "metadata": {},
     "output_type": "execute_result"
    }
   ],
   "source": [
    "list(range(5))"
   ]
  },
  {
   "cell_type": "code",
   "execution_count": 23,
   "id": "b2d5d7e5-12d8-4406-9224-41a30c4e7bd7",
   "metadata": {},
   "outputs": [
    {
     "data": {
      "text/plain": [
       "[2, 4, 6, 8, 10, 12, 14, 16, 18]"
      ]
     },
     "execution_count": 23,
     "metadata": {},
     "output_type": "execute_result"
    }
   ],
   "source": [
    "list(range(2,20,2))"
   ]
  },
  {
   "cell_type": "code",
   "execution_count": 24,
   "id": "6b7f1a12-f291-43f9-b3f1-ad52034c9fb2",
   "metadata": {},
   "outputs": [
    {
     "data": {
      "text/plain": [
       "[10, 9, 8, 7, 6, 5, 4, 3, 2, 1]"
      ]
     },
     "execution_count": 24,
     "metadata": {},
     "output_type": "execute_result"
    }
   ],
   "source": [
    "list(range(10,0,-1))"
   ]
  },
  {
   "cell_type": "code",
   "execution_count": 25,
   "id": "ea09d8ea-fae3-4c25-aa0b-bb0f9e96a02c",
   "metadata": {},
   "outputs": [
    {
     "data": {
      "text/plain": [
       "['Kolkata', 'Delhi', 'Mumbai']"
      ]
     },
     "execution_count": 25,
     "metadata": {},
     "output_type": "execute_result"
    }
   ],
   "source": [
    "# sequence\n",
    "# string\n",
    "[\"Kolkata\",\"Delhi\",\"Mumbai\"]"
   ]
  },
  {
   "cell_type": "code",
   "execution_count": 26,
   "id": "0527e297-b846-4713-96c2-2dfc320ff695",
   "metadata": {},
   "outputs": [
    {
     "data": {
      "text/plain": [
       "('Kolkata', 'Delhi', 'Mumbai')"
      ]
     },
     "execution_count": 26,
     "metadata": {},
     "output_type": "execute_result"
    }
   ],
   "source": [
    "(\"Kolkata\",\"Delhi\",\"Mumbai\")"
   ]
  },
  {
   "cell_type": "code",
   "execution_count": 28,
   "id": "50414b5d-83fb-4af5-baf9-ec2dac9f38ce",
   "metadata": {},
   "outputs": [
    {
     "name": "stdout",
     "output_type": "stream",
     "text": [
      "1 2 3 4 5 6 7 8 9 10 "
     ]
    }
   ],
   "source": [
    "for i in range(1,11):\n",
    "    print(i,end=\" \")"
   ]
  },
  {
   "cell_type": "code",
   "execution_count": 30,
   "id": "b95c527d-59a2-400c-8482-96bbdd6ce405",
   "metadata": {},
   "outputs": [
    {
     "name": "stdout",
     "output_type": "stream",
     "text": [
      "Rashi Khabiya"
     ]
    }
   ],
   "source": [
    "for i in \"Rashi Khabiya\":\n",
    "    print(i,end=\"\")"
   ]
  },
  {
   "cell_type": "code",
   "execution_count": 37,
   "id": "e605a521-099a-4e4d-8944-bb4908141f5a",
   "metadata": {},
   "outputs": [
    {
     "name": "stdout",
     "output_type": "stream",
     "text": [
      "1\n",
      "2\n",
      "33\n",
      "4\n",
      "5\n"
     ]
    }
   ],
   "source": [
    "for i in [1,2,33,4,5]:#list\n",
    "    print(i)"
   ]
  },
  {
   "cell_type": "code",
   "execution_count": 38,
   "id": "d73aef53-4ca9-43f1-b9b0-332b6484c38f",
   "metadata": {},
   "outputs": [
    {
     "name": "stdout",
     "output_type": "stream",
     "text": [
      "1\n",
      "12\n",
      "3\n",
      "4\n",
      "5\n"
     ]
    }
   ],
   "source": [
    "for i in (1,12,3,4,5):#tupple\n",
    "    print(i)"
   ]
  },
  {
   "cell_type": "code",
   "execution_count": 39,
   "id": "06a6abd1-2374-437e-b5dc-e6f6d0213955",
   "metadata": {},
   "outputs": [
    {
     "name": "stdout",
     "output_type": "stream",
     "text": [
      "1\n",
      "2\n",
      "3\n",
      "5\n",
      "56\n"
     ]
    }
   ],
   "source": [
    "for i in {1,2,3,56,5}:#sets\n",
    "    print(i)"
   ]
  },
  {
   "cell_type": "markdown",
   "id": "9cff9123-06e4-46e5-b7c6-2f192bd72359",
   "metadata": {},
   "source": [
    "**when you know number of times the loop will go on then use for loop else use while loop**"
   ]
  },
  {
   "cell_type": "markdown",
   "id": "dd9183d9-2af4-4d9b-818a-6c91004eb75b",
   "metadata": {},
   "source": [
    "# Nested Loop"
   ]
  },
  {
   "cell_type": "markdown",
   "id": "874febb1-1d9c-453c-b3b7-933be7a55ab5",
   "metadata": {},
   "source": [
    "**Time complexity of nested loops (2) are N^2**"
   ]
  },
  {
   "cell_type": "code",
   "execution_count": 46,
   "id": "13c277ef-c315-47da-acbe-592f0e2fc772",
   "metadata": {},
   "outputs": [],
   "source": [
    "# *\n",
    "# **\n",
    "# ***\n",
    "# ****\n",
    "# *****\n",
    "# Python tutor"
   ]
  },
  {
   "cell_type": "code",
   "execution_count": 48,
   "id": "d904bdc9-3cc9-483f-9eef-fd469ebaa7f9",
   "metadata": {},
   "outputs": [
    {
     "name": "stdin",
     "output_type": "stream",
     "text": [
      "Enter the number of rows 7\n"
     ]
    },
    {
     "name": "stdout",
     "output_type": "stream",
     "text": [
      "* \n",
      "* * \n",
      "* * * \n",
      "* * * * \n",
      "* * * * * \n",
      "* * * * * * \n",
      "* * * * * * * \n"
     ]
    }
   ],
   "source": [
    "rows=int(input(\"Enter the number of rows\"))\n",
    "for i in range(1,rows+1):\n",
    "    for j in range(0,i):\n",
    "        print(\"*\",end=\" \")\n",
    "    print()"
   ]
  },
  {
   "cell_type": "markdown",
   "id": "4d203088-4c6d-40e3-bbd9-f9427b3c1bc8",
   "metadata": {},
   "source": [
    "# Break-Continue-Pass"
   ]
  },
  {
   "cell_type": "code",
   "execution_count": 53,
   "id": "36c54b20-69d3-4667-ba60-43e22b936288",
   "metadata": {},
   "outputs": [
    {
     "name": "stdout",
     "output_type": "stream",
     "text": [
      "1\n",
      "2\n",
      "3\n",
      "4\n"
     ]
    }
   ],
   "source": [
    "for i in range(1,11):\n",
    "    if i==5:\n",
    "        break\n",
    "    print(i)"
   ]
  },
  {
   "cell_type": "code",
   "execution_count": 55,
   "id": "a2b8aa43-b9c0-4bb6-944e-d56473734902",
   "metadata": {},
   "outputs": [
    {
     "name": "stdout",
     "output_type": "stream",
     "text": [
      "1\n",
      "2\n",
      "3\n",
      "4\n",
      "6\n",
      "7\n",
      "8\n",
      "9\n",
      "10\n"
     ]
    }
   ],
   "source": [
    "for i in range(1,11):\n",
    "    if i==5:\n",
    "        continue # skips i==5\n",
    "    print(i)"
   ]
  },
  {
   "cell_type": "code",
   "execution_count": 56,
   "id": "d22cad2e-1f38-4482-8a51-91fadb9faabc",
   "metadata": {},
   "outputs": [],
   "source": [
    "for i in range(1,11):\n",
    "    pass"
   ]
  },
  {
   "cell_type": "markdown",
   "id": "3a6ac353-31fb-4abc-9965-62ab4859bf68",
   "metadata": {},
   "source": [
    "# Built in functions"
   ]
  },
  {
   "cell_type": "markdown",
   "id": "d2012b3e-ee71-4dad-a94c-53fbd9d201f2",
   "metadata": {},
   "source": [
    "**1.print**"
   ]
  },
  {
   "cell_type": "code",
   "execution_count": 57,
   "id": "9369b926-cef0-46a9-90d6-071f7f88a7f7",
   "metadata": {},
   "outputs": [
    {
     "name": "stdout",
     "output_type": "stream",
     "text": [
      "Hello world\n"
     ]
    }
   ],
   "source": [
    "print(\"Hello world\")"
   ]
  },
  {
   "cell_type": "markdown",
   "id": "837274fe-8b72-4241-a985-cd82bf4396bf",
   "metadata": {},
   "source": [
    "**2.input**"
   ]
  },
  {
   "cell_type": "code",
   "execution_count": 58,
   "id": "08fab21f-e87f-449e-a83a-9c68ddb590bf",
   "metadata": {},
   "outputs": [
    {
     "name": "stdin",
     "output_type": "stream",
     "text": [
      "Plase enter your name:  Rashi Khabiya\n"
     ]
    }
   ],
   "source": [
    "name=input(\"Plase enter your name: \")"
   ]
  },
  {
   "cell_type": "markdown",
   "id": "098ff749-e82f-4f02-bcb1-0bae2fd548fd",
   "metadata": {},
   "source": [
    "**3.type**"
   ]
  },
  {
   "cell_type": "code",
   "execution_count": 59,
   "id": "d61fba50-7651-4dbb-aa2a-75a1f22e3476",
   "metadata": {},
   "outputs": [
    {
     "data": {
      "text/plain": [
       "bool"
      ]
     },
     "execution_count": 59,
     "metadata": {},
     "output_type": "execute_result"
    }
   ],
   "source": [
    "a=True\n",
    "type(a)"
   ]
  },
  {
   "cell_type": "markdown",
   "id": "ff50f3b1-0684-4719-b602-b162d4baab2c",
   "metadata": {},
   "source": [
    "**4.int etc**"
   ]
  },
  {
   "cell_type": "code",
   "execution_count": 61,
   "id": "62e96040-2d1d-490f-87c4-a9477f29b876",
   "metadata": {},
   "outputs": [
    {
     "data": {
      "text/plain": [
       "6"
      ]
     },
     "execution_count": 61,
     "metadata": {},
     "output_type": "execute_result"
    }
   ],
   "source": [
    "int(6.98)"
   ]
  },
  {
   "cell_type": "markdown",
   "id": "158e5d4a-bd9a-470f-9916-1e845a28c534",
   "metadata": {},
   "source": [
    "**5.abs**"
   ]
  },
  {
   "cell_type": "code",
   "execution_count": 62,
   "id": "f28696dc-941b-4fd2-93c4-c6a0478cfddf",
   "metadata": {},
   "outputs": [
    {
     "data": {
      "text/plain": [
       "5"
      ]
     },
     "execution_count": 62,
     "metadata": {},
     "output_type": "execute_result"
    }
   ],
   "source": [
    "abs(-5)"
   ]
  },
  {
   "cell_type": "markdown",
   "id": "934bb41f-72cc-4b9b-8bbc-8a0f12fd80c1",
   "metadata": {},
   "source": [
    "**6.power**"
   ]
  },
  {
   "cell_type": "code",
   "execution_count": 64,
   "id": "80130b8c-8a57-4003-9f4c-4d248799606b",
   "metadata": {},
   "outputs": [
    {
     "data": {
      "text/plain": [
       "0.125"
      ]
     },
     "execution_count": 64,
     "metadata": {},
     "output_type": "execute_result"
    }
   ],
   "source": [
    "pow(2,-3)"
   ]
  },
  {
   "cell_type": "markdown",
   "id": "daf8590a-2b3c-4cd1-b9d5-addea2551b0f",
   "metadata": {},
   "source": [
    "**7.min/max**"
   ]
  },
  {
   "cell_type": "code",
   "execution_count": 68,
   "id": "962418c5-da23-4c24-8cf0-ff8e37094589",
   "metadata": {},
   "outputs": [
    {
     "data": {
      "text/plain": [
       "'a'"
      ]
     },
     "execution_count": 68,
     "metadata": {},
     "output_type": "execute_result"
    }
   ],
   "source": [
    "min(3,4,5)\n",
    "min(\"rashi\")"
   ]
  },
  {
   "cell_type": "code",
   "execution_count": 66,
   "id": "556c8a81-2f89-4ae2-aabd-3df2187d04eb",
   "metadata": {},
   "outputs": [
    {
     "data": {
      "text/plain": [
       "78"
      ]
     },
     "execution_count": 66,
     "metadata": {},
     "output_type": "execute_result"
    }
   ],
   "source": [
    "max(78,65,43)"
   ]
  },
  {
   "cell_type": "markdown",
   "id": "c45c94b8-491e-4246-8010-a93ae1150d97",
   "metadata": {},
   "source": [
    "**8.round**"
   ]
  },
  {
   "cell_type": "code",
   "execution_count": 72,
   "id": "fc6f6ef8-4a11-430b-a513-6fc0e569b2dc",
   "metadata": {},
   "outputs": [
    {
     "data": {
      "text/plain": [
       "5"
      ]
     },
     "execution_count": 72,
     "metadata": {},
     "output_type": "execute_result"
    }
   ],
   "source": [
    "c=14/3\n",
    "round(c)"
   ]
  },
  {
   "cell_type": "markdown",
   "id": "2640e51c-f107-433e-b870-f17823084482",
   "metadata": {},
   "source": [
    "**9.divmod**"
   ]
  },
  {
   "cell_type": "code",
   "execution_count": 73,
   "id": "250f6e42-06f5-4344-b621-bf8a0f4db0fc",
   "metadata": {},
   "outputs": [
    {
     "data": {
      "text/plain": [
       "(2, 1)"
      ]
     },
     "execution_count": 73,
     "metadata": {},
     "output_type": "execute_result"
    }
   ],
   "source": [
    "divmod(5,2)"
   ]
  },
  {
   "cell_type": "markdown",
   "id": "365f1275-7f7f-4c67-8952-66c854468bdf",
   "metadata": {},
   "source": [
    "**10.bin/oct/hex**"
   ]
  },
  {
   "cell_type": "code",
   "execution_count": 74,
   "id": "5b05c3bb-5a29-4fd1-a9a8-e762b803b6b1",
   "metadata": {},
   "outputs": [
    {
     "data": {
      "text/plain": [
       "'0b111'"
      ]
     },
     "execution_count": 74,
     "metadata": {},
     "output_type": "execute_result"
    }
   ],
   "source": [
    "bin(7)"
   ]
  },
  {
   "cell_type": "code",
   "execution_count": 75,
   "id": "8c03f4a6-c876-4a9d-8355-ae64653df85d",
   "metadata": {},
   "outputs": [
    {
     "data": {
      "text/plain": [
       "'0o3'"
      ]
     },
     "execution_count": 75,
     "metadata": {},
     "output_type": "execute_result"
    }
   ],
   "source": [
    "oct(3)"
   ]
  },
  {
   "cell_type": "code",
   "execution_count": 76,
   "id": "dc08d129-ee44-41da-912e-0f33e6df0450",
   "metadata": {},
   "outputs": [
    {
     "data": {
      "text/plain": [
       "'0xc'"
      ]
     },
     "execution_count": 76,
     "metadata": {},
     "output_type": "execute_result"
    }
   ],
   "source": [
    "hex(12)"
   ]
  },
  {
   "cell_type": "markdown",
   "id": "64960f24-961a-4b83-9cde-2fdb40a3d590",
   "metadata": {},
   "source": [
    "**11.id**"
   ]
  },
  {
   "cell_type": "code",
   "execution_count": 77,
   "id": "087eecf6-7a8a-43d3-b638-0832aefed7ce",
   "metadata": {},
   "outputs": [
    {
     "data": {
      "text/plain": [
       "140704221414248"
      ]
     },
     "execution_count": 77,
     "metadata": {},
     "output_type": "execute_result"
    }
   ],
   "source": [
    "a=3\n",
    "id(a)"
   ]
  },
  {
   "cell_type": "markdown",
   "id": "c8086fc0-d8ae-4141-87b8-21d6b137acda",
   "metadata": {},
   "source": [
    "**12.ord**"
   ]
  },
  {
   "cell_type": "code",
   "execution_count": 79,
   "id": "a99e7faa-a85a-4eb5-96b5-16bdb775de11",
   "metadata": {},
   "outputs": [
    {
     "data": {
      "text/plain": [
       "114"
      ]
     },
     "execution_count": 79,
     "metadata": {},
     "output_type": "execute_result"
    }
   ],
   "source": [
    "ord('r')"
   ]
  },
  {
   "cell_type": "markdown",
   "id": "3771e5bd-d38a-4bba-b12c-40d76f3b9aa4",
   "metadata": {},
   "source": [
    "**13.len**"
   ]
  },
  {
   "cell_type": "code",
   "execution_count": 80,
   "id": "cee18b41-5294-4ce3-8139-3e5c59067850",
   "metadata": {},
   "outputs": [
    {
     "data": {
      "text/plain": [
       "5"
      ]
     },
     "execution_count": 80,
     "metadata": {},
     "output_type": "execute_result"
    }
   ],
   "source": [
    "len(\"rashi\")"
   ]
  },
  {
   "cell_type": "markdown",
   "id": "de86e768-604d-4223-b416-c95cd16e4e4f",
   "metadata": {},
   "source": [
    "**14.sum**"
   ]
  },
  {
   "cell_type": "code",
   "execution_count": 81,
   "id": "1d9a4d78-72b0-4ed2-b67f-4a0b129dc2b3",
   "metadata": {},
   "outputs": [
    {
     "data": {
      "text/plain": [
       "15"
      ]
     },
     "execution_count": 81,
     "metadata": {},
     "output_type": "execute_result"
    }
   ],
   "source": [
    "sum([1,2,3,4,5])"
   ]
  },
  {
   "cell_type": "markdown",
   "id": "89b258ea-25cd-48c2-87f1-c8efc3c80047",
   "metadata": {},
   "source": [
    "**15.help**"
   ]
  },
  {
   "cell_type": "code",
   "execution_count": 82,
   "id": "47be6692-0a6b-4abc-92b3-603aca380c01",
   "metadata": {},
   "outputs": [
    {
     "name": "stdout",
     "output_type": "stream",
     "text": [
      "Help on built-in function print in module builtins:\n",
      "\n",
      "print(*args, sep=' ', end='\\n', file=None, flush=False)\n",
      "    Prints the values to a stream, or to sys.stdout by default.\n",
      "    \n",
      "    sep\n",
      "      string inserted between values, default a space.\n",
      "    end\n",
      "      string appended after the last value, default a newline.\n",
      "    file\n",
      "      a file-like object (stream); defaults to the current sys.stdout.\n",
      "    flush\n",
      "      whether to forcibly flush the stream.\n",
      "\n"
     ]
    }
   ],
   "source": [
    "help(print)"
   ]
  },
  {
   "cell_type": "markdown",
   "id": "fecff4f8-0306-4956-850c-da0ff403c626",
   "metadata": {},
   "source": [
    "# Built in Modules"
   ]
  },
  {
   "cell_type": "markdown",
   "id": "207e3047-41cb-4b42-927c-85d160ec8e5f",
   "metadata": {},
   "source": [
    "**What are Modules?**\n",
    "- Code libraries in Python.\n",
    "- Contain functions for use."
   ]
  },
  {
   "cell_type": "markdown",
   "id": "b05716af-21df-44b0-8578-1436abc54fe5",
   "metadata": {},
   "source": [
    "Examples\n",
    "- Math: Math ops\n",
    "- Random: Random numbers\n",
    "- os: OS interaction\n",
    "- time: Time tasks\r",
    "tasks"
   ]
  },
  {
   "cell_type": "code",
   "execution_count": 83,
   "id": "45ff31eb-b05e-4e31-8d07-331037436dbf",
   "metadata": {},
   "outputs": [
    {
     "name": "stdout",
     "output_type": "stream",
     "text": [
      "\n",
      "Please wait a moment while I gather a list of all available modules...\n",
      "\n"
     ]
    },
    {
     "name": "stderr",
     "output_type": "stream",
     "text": [
      "C:\\Users\\rashi.khabiya\\AppData\\Local\\anaconda3\\Lib\\site-packages\\paramiko\\transport.py:219: CryptographyDeprecationWarning: Blowfish has been deprecated and will be removed in a future release\n",
      "  \"class\": algorithms.Blowfish,\n",
      "C:\\Users\\rashi.khabiya\\AppData\\Local\\anaconda3\\Lib\\site-packages\\nltk\\twitter\\__init__.py:20: UserWarning: The twython library has not been installed. Some functionality from the twitter package will not be available.\n",
      "  warnings.warn(\n",
      "C:\\Users\\rashi.khabiya\\AppData\\Local\\anaconda3\\Lib\\pkgutil.py:92: UserWarning: The numpy.array_api submodule is still experimental. See NEP 47.\n",
      "  __import__(info.name)\n",
      "C:\\Users\\rashi.khabiya\\AppData\\Local\\anaconda3\\Lib\\site-packages\\_distutils_hack\\__init__.py:33: UserWarning: Setuptools is replacing distutils.\n",
      "  warnings.warn(\"Setuptools is replacing distutils.\")\n",
      "No QCoreApplication instance found. Application patches not applied. You have to call load_stylesheet function after instantiation of QApplication to take effect. \n",
      "\n",
      "KeyboardInterrupt\n",
      "\n"
     ]
    }
   ],
   "source": [
    "\n",
    "help('modules')"
   ]
  },
  {
   "cell_type": "markdown",
   "id": "be53b929-2e75-4150-828d-167547632a2b",
   "metadata": {},
   "source": [
    "**Math Module**"
   ]
  },
  {
   "cell_type": "code",
   "execution_count": 84,
   "id": "688b546b-8cd3-4042-bcdd-5470aa76fdfc",
   "metadata": {},
   "outputs": [],
   "source": [
    "import math"
   ]
  },
  {
   "cell_type": "code",
   "execution_count": 85,
   "id": "7c29e90d-5c98-4b86-90f0-7915ee3b97ad",
   "metadata": {},
   "outputs": [
    {
     "data": {
      "text/plain": [
       "3.141592653589793"
      ]
     },
     "execution_count": 85,
     "metadata": {},
     "output_type": "execute_result"
    }
   ],
   "source": [
    "math.pi"
   ]
  },
  {
   "cell_type": "code",
   "execution_count": 86,
   "id": "faf6b03a-9b53-4f5c-ba76-b71c6a434de8",
   "metadata": {},
   "outputs": [
    {
     "data": {
      "text/plain": [
       "2.718281828459045"
      ]
     },
     "execution_count": 86,
     "metadata": {},
     "output_type": "execute_result"
    }
   ],
   "source": [
    "math.e"
   ]
  },
  {
   "cell_type": "code",
   "execution_count": 87,
   "id": "b724a533-21f7-4068-9c6b-c2fdea8311e8",
   "metadata": {},
   "outputs": [
    {
     "data": {
      "text/plain": [
       "720"
      ]
     },
     "execution_count": 87,
     "metadata": {},
     "output_type": "execute_result"
    }
   ],
   "source": [
    "math.factorial(6)"
   ]
  },
  {
   "cell_type": "code",
   "execution_count": 88,
   "id": "3e0876d9-fde0-464b-bba3-1d7081d8be4d",
   "metadata": {},
   "outputs": [
    {
     "data": {
      "text/plain": [
       "7"
      ]
     },
     "execution_count": 88,
     "metadata": {},
     "output_type": "execute_result"
    }
   ],
   "source": [
    "math.ceil(6.2)"
   ]
  },
  {
   "cell_type": "code",
   "execution_count": 89,
   "id": "bf551bc7-1203-4b76-bda4-6dbc9c3aa343",
   "metadata": {},
   "outputs": [
    {
     "data": {
      "text/plain": [
       "8"
      ]
     },
     "execution_count": 89,
     "metadata": {},
     "output_type": "execute_result"
    }
   ],
   "source": [
    "math.floor(8.6)"
   ]
  },
  {
   "cell_type": "code",
   "execution_count": 90,
   "id": "75d74dcb-d147-4f07-a2d2-6c8e7fa844a2",
   "metadata": {},
   "outputs": [
    {
     "data": {
      "text/plain": [
       "3.0"
      ]
     },
     "execution_count": 90,
     "metadata": {},
     "output_type": "execute_result"
    }
   ],
   "source": [
    "math.sqrt(9)"
   ]
  },
  {
   "cell_type": "code",
   "execution_count": 91,
   "id": "804e873a-c2c4-4336-b2ec-f47dc7705737",
   "metadata": {},
   "outputs": [],
   "source": [
    "import random"
   ]
  },
  {
   "cell_type": "code",
   "execution_count": 92,
   "id": "175b572c-1b73-43f3-bcce-4f3ce2e61f7f",
   "metadata": {},
   "outputs": [
    {
     "data": {
      "text/plain": [
       "7"
      ]
     },
     "execution_count": 92,
     "metadata": {},
     "output_type": "execute_result"
    }
   ],
   "source": [
    "random.randint(4,15)"
   ]
  },
  {
   "cell_type": "code",
   "execution_count": 94,
   "id": "f5512d41-52ab-4f40-ae53-b6be8818e2c6",
   "metadata": {},
   "outputs": [
    {
     "data": {
      "text/plain": [
       "[5, 11, 1, 9, 7, 3]"
      ]
     },
     "execution_count": 94,
     "metadata": {},
     "output_type": "execute_result"
    }
   ],
   "source": [
    "a=[1,3,5,7,9,11]\n",
    "random.shuffle(a)\n",
    "a"
   ]
  },
  {
   "cell_type": "code",
   "execution_count": 95,
   "id": "e8758ed0-c0f5-4f1e-8bb5-07e531dc9720",
   "metadata": {},
   "outputs": [],
   "source": [
    "import time"
   ]
  },
  {
   "cell_type": "code",
   "execution_count": 98,
   "id": "eb076f5a-8f14-48b3-8f99-64d1ed9e9ec2",
   "metadata": {},
   "outputs": [
    {
     "data": {
      "text/plain": [
       "1731955285.5723758"
      ]
     },
     "execution_count": 98,
     "metadata": {},
     "output_type": "execute_result"
    }
   ],
   "source": [
    "time.time()"
   ]
  },
  {
   "cell_type": "code",
   "execution_count": 99,
   "id": "5b9a8fb7-aa07-4714-a8ad-9c32241ded53",
   "metadata": {},
   "outputs": [
    {
     "data": {
      "text/plain": [
       "'Tue Nov 19 00:11:39 2024'"
      ]
     },
     "execution_count": 99,
     "metadata": {},
     "output_type": "execute_result"
    }
   ],
   "source": [
    "time.ctime()"
   ]
  },
  {
   "cell_type": "code",
   "execution_count": 100,
   "id": "c4202cb6-278d-4893-8854-8cdf94d1cfd7",
   "metadata": {},
   "outputs": [
    {
     "name": "stdout",
     "output_type": "stream",
     "text": [
      "RAshi\n",
      "Khabiya\n"
     ]
    }
   ],
   "source": [
    "print(\"RAshi\")\n",
    "time.sleep(3)\n",
    "print(\"Khabiya\")"
   ]
  },
  {
   "cell_type": "code",
   "execution_count": 101,
   "id": "0c0be8bb-148a-4ca0-b684-830a1a8b1bce",
   "metadata": {},
   "outputs": [],
   "source": [
    "import os"
   ]
  },
  {
   "cell_type": "code",
   "execution_count": 102,
   "id": "2826ed09-ede8-42ba-946f-0e448d1cea83",
   "metadata": {},
   "outputs": [
    {
     "data": {
      "text/plain": [
       "'C:\\\\Users\\\\rashi.khabiya\\\\PYTHON'"
      ]
     },
     "execution_count": 102,
     "metadata": {},
     "output_type": "execute_result"
    }
   ],
   "source": [
    "os.getcwd()"
   ]
  },
  {
   "cell_type": "code",
   "execution_count": 103,
   "id": "6c72f9d2-987d-453f-9692-4ef6ec80692e",
   "metadata": {},
   "outputs": [
    {
     "data": {
      "text/plain": [
       "['.ipynb_checkpoints',\n",
       " 'Day1_Python.ipynb',\n",
       " 'Day2_Python.ipynb',\n",
       " 'OOP_DAY_1.ipynb',\n",
       " 'Untitled.ipynb']"
      ]
     },
     "execution_count": 103,
     "metadata": {},
     "output_type": "execute_result"
    }
   ],
   "source": [
    "os.listdir()"
   ]
  },
  {
   "cell_type": "code",
   "execution_count": null,
   "id": "e762c65e-c006-4963-b5be-5e95a72647cc",
   "metadata": {},
   "outputs": [],
   "source": []
  }
 ],
 "metadata": {
  "kernelspec": {
   "display_name": "Python 3 (ipykernel)",
   "language": "python",
   "name": "python3"
  },
  "language_info": {
   "codemirror_mode": {
    "name": "ipython",
    "version": 3
   },
   "file_extension": ".py",
   "mimetype": "text/x-python",
   "name": "python",
   "nbconvert_exporter": "python",
   "pygments_lexer": "ipython3",
   "version": "3.11.7"
  }
 },
 "nbformat": 4,
 "nbformat_minor": 5
}
