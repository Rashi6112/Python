{
  "nbformat": 4,
  "nbformat_minor": 0,
  "metadata": {
    "colab": {
      "provenance": []
    },
    "kernelspec": {
      "name": "python3",
      "display_name": "Python 3"
    },
    "language_info": {
      "name": "python"
    }
  },
  "cells": [
    {
      "cell_type": "markdown",
      "source": [
        "# Object Oriented Programming\n",
        "\n",
        "We are creating classes to write our code.\n",
        "\n",
        "To access the properties of our class we were taking the help of our students.\n",
        "\n",
        "These students are nothing but the objects.\n",
        "\n",
        "With the help of objects i am able to access the functions/properties of my class."
      ],
      "metadata": {
        "id": "n8Geh9tG3xwT"
      }
    },
    {
      "cell_type": "code",
      "execution_count": null,
      "metadata": {
        "id": "8cuwfF6HyWvB"
      },
      "outputs": [],
      "source": [
        "# class creation\n",
        "class Ninth:\n",
        "  def teachers(self):\n",
        "    print(\"There are 5 teachers in the class\")\n",
        "\n",
        "  def subjects(self):\n",
        "    print(\"TRhere are 5 subjects in the class\")\n",
        "\n",
        "  def exams(self):\n",
        "    print(\"The exams will start from 10 june\")"
      ]
    },
    {
      "cell_type": "code",
      "source": [
        "#Objects creation\n",
        "stud=Ninth()\n",
        "stud.teachers()\n",
        "stud.exams()\n",
        "stud.subjects()"
      ],
      "metadata": {
        "colab": {
          "base_uri": "https://localhost:8080/"
        },
        "id": "Qpu8RApi63Uo",
        "outputId": "e10be739-3f55-40a2-e7be-87b29348c21e"
      },
      "execution_count": null,
      "outputs": [
        {
          "output_type": "stream",
          "name": "stdout",
          "text": [
            "There are 5 teachers in the class\n",
            "The exams will start from 10 june\n",
            "TRhere are 5 subjects in the class\n"
          ]
        }
      ]
    },
    {
      "cell_type": "code",
      "source": [
        "li=[23,45,34,78,10]\n",
        "print(li)\n",
        "print(type(li))"
      ],
      "metadata": {
        "colab": {
          "base_uri": "https://localhost:8080/"
        },
        "id": "gm9oXFt87IX_",
        "outputId": "c509f1b3-56a5-4304-c331-aba154f341f4"
      },
      "execution_count": null,
      "outputs": [
        {
          "output_type": "stream",
          "name": "stdout",
          "text": [
            "[23, 45, 34, 78, 10]\n",
            "<class 'list'>\n"
          ]
        }
      ]
    },
    {
      "cell_type": "code",
      "source": [
        "li.append(23)"
      ],
      "metadata": {
        "id": "gD-npSY19Hbo"
      },
      "execution_count": null,
      "outputs": []
    },
    {
      "cell_type": "code",
      "source": [
        "help(list)"
      ],
      "metadata": {
        "colab": {
          "base_uri": "https://localhost:8080/"
        },
        "id": "fwMANN828fHp",
        "outputId": "af9538bb-1fd7-4216-df5c-d4f27551c8ea"
      },
      "execution_count": null,
      "outputs": [
        {
          "output_type": "stream",
          "name": "stdout",
          "text": [
            "Help on class list in module builtins:\n",
            "\n",
            "class list(object)\n",
            " |  list(iterable=(), /)\n",
            " |  \n",
            " |  Built-in mutable sequence.\n",
            " |  \n",
            " |  If no argument is given, the constructor creates a new empty list.\n",
            " |  The argument must be an iterable if specified.\n",
            " |  \n",
            " |  Methods defined here:\n",
            " |  \n",
            " |  __add__(self, value, /)\n",
            " |      Return self+value.\n",
            " |  \n",
            " |  __contains__(self, key, /)\n",
            " |      Return key in self.\n",
            " |  \n",
            " |  __delitem__(self, key, /)\n",
            " |      Delete self[key].\n",
            " |  \n",
            " |  __eq__(self, value, /)\n",
            " |      Return self==value.\n",
            " |  \n",
            " |  __ge__(self, value, /)\n",
            " |      Return self>=value.\n",
            " |  \n",
            " |  __getattribute__(self, name, /)\n",
            " |      Return getattr(self, name).\n",
            " |  \n",
            " |  __getitem__(...)\n",
            " |      x.__getitem__(y) <==> x[y]\n",
            " |  \n",
            " |  __gt__(self, value, /)\n",
            " |      Return self>value.\n",
            " |  \n",
            " |  __iadd__(self, value, /)\n",
            " |      Implement self+=value.\n",
            " |  \n",
            " |  __imul__(self, value, /)\n",
            " |      Implement self*=value.\n",
            " |  \n",
            " |  __init__(self, /, *args, **kwargs)\n",
            " |      Initialize self.  See help(type(self)) for accurate signature.\n",
            " |  \n",
            " |  __iter__(self, /)\n",
            " |      Implement iter(self).\n",
            " |  \n",
            " |  __le__(self, value, /)\n",
            " |      Return self<=value.\n",
            " |  \n",
            " |  __len__(self, /)\n",
            " |      Return len(self).\n",
            " |  \n",
            " |  __lt__(self, value, /)\n",
            " |      Return self<value.\n",
            " |  \n",
            " |  __mul__(self, value, /)\n",
            " |      Return self*value.\n",
            " |  \n",
            " |  __ne__(self, value, /)\n",
            " |      Return self!=value.\n",
            " |  \n",
            " |  __repr__(self, /)\n",
            " |      Return repr(self).\n",
            " |  \n",
            " |  __reversed__(self, /)\n",
            " |      Return a reverse iterator over the list.\n",
            " |  \n",
            " |  __rmul__(self, value, /)\n",
            " |      Return value*self.\n",
            " |  \n",
            " |  __setitem__(self, key, value, /)\n",
            " |      Set self[key] to value.\n",
            " |  \n",
            " |  __sizeof__(self, /)\n",
            " |      Return the size of the list in memory, in bytes.\n",
            " |  \n",
            " |  append(self, object, /)\n",
            " |      Append object to the end of the list.\n",
            " |  \n",
            " |  clear(self, /)\n",
            " |      Remove all items from list.\n",
            " |  \n",
            " |  copy(self, /)\n",
            " |      Return a shallow copy of the list.\n",
            " |  \n",
            " |  count(self, value, /)\n",
            " |      Return number of occurrences of value.\n",
            " |  \n",
            " |  extend(self, iterable, /)\n",
            " |      Extend list by appending elements from the iterable.\n",
            " |  \n",
            " |  index(self, value, start=0, stop=9223372036854775807, /)\n",
            " |      Return first index of value.\n",
            " |      \n",
            " |      Raises ValueError if the value is not present.\n",
            " |  \n",
            " |  insert(self, index, object, /)\n",
            " |      Insert object before index.\n",
            " |  \n",
            " |  pop(self, index=-1, /)\n",
            " |      Remove and return item at index (default last).\n",
            " |      \n",
            " |      Raises IndexError if list is empty or index is out of range.\n",
            " |  \n",
            " |  remove(self, value, /)\n",
            " |      Remove first occurrence of value.\n",
            " |      \n",
            " |      Raises ValueError if the value is not present.\n",
            " |  \n",
            " |  reverse(self, /)\n",
            " |      Reverse *IN PLACE*.\n",
            " |  \n",
            " |  sort(self, /, *, key=None, reverse=False)\n",
            " |      Sort the list in ascending order and return None.\n",
            " |      \n",
            " |      The sort is in-place (i.e. the list itself is modified) and stable (i.e. the\n",
            " |      order of two equal elements is maintained).\n",
            " |      \n",
            " |      If a key function is given, apply it once to each list item and sort them,\n",
            " |      ascending or descending, according to their function values.\n",
            " |      \n",
            " |      The reverse flag can be set to sort in descending order.\n",
            " |  \n",
            " |  ----------------------------------------------------------------------\n",
            " |  Class methods defined here:\n",
            " |  \n",
            " |  __class_getitem__(...)\n",
            " |      See PEP 585\n",
            " |  \n",
            " |  ----------------------------------------------------------------------\n",
            " |  Static methods defined here:\n",
            " |  \n",
            " |  __new__(*args, **kwargs)\n",
            " |      Create and return a new object.  See help(type) for accurate signature.\n",
            " |  \n",
            " |  ----------------------------------------------------------------------\n",
            " |  Data and other attributes defined here:\n",
            " |  \n",
            " |  __hash__ = None\n",
            "\n"
          ]
        }
      ]
    },
    {
      "cell_type": "markdown",
      "source": [
        "# Self Keyword\n",
        "\n",
        "It is nothing but the refrence of the object."
      ],
      "metadata": {
        "id": "NYt1UtIb9-Sj"
      }
    },
    {
      "cell_type": "code",
      "source": [
        "class Ninth:\n",
        "  def details(self,name,roll_no):\n",
        "    self.name=name\n",
        "    self.roll_no=roll_no\n",
        "\n",
        "  def subjects(self):\n",
        "    print(\"You have 10 subjects in the class\")"
      ],
      "metadata": {
        "id": "SsdRNRfO9DTb"
      },
      "execution_count": null,
      "outputs": []
    },
    {
      "cell_type": "code",
      "source": [
        "stud1=Ninth()\n",
        "stud1.details(\"Manish\",24)"
      ],
      "metadata": {
        "id": "5AjZcliz-YBF"
      },
      "execution_count": null,
      "outputs": []
    },
    {
      "cell_type": "code",
      "source": [
        "stud2=Ninth()\n",
        "stud2.details(\"Shilpa\",35)"
      ],
      "metadata": {
        "id": "zq2dSN-9-f4J"
      },
      "execution_count": null,
      "outputs": []
    },
    {
      "cell_type": "code",
      "source": [
        "class Ninth:\n",
        "  def details(self,name,marks):\n",
        "    self.name=name\n",
        "    self.marks=marks\n",
        "\n",
        "  def show_details(self):\n",
        "    print(\"Name\",self.name)\n",
        "    print(\"Marks\",self.marks)"
      ],
      "metadata": {
        "id": "3TJ_bfFK-3Gb"
      },
      "execution_count": null,
      "outputs": []
    },
    {
      "cell_type": "code",
      "source": [
        "stud1=Ninth()\n",
        "stud2=Ninth()"
      ],
      "metadata": {
        "id": "4fLnefdEABt8"
      },
      "execution_count": null,
      "outputs": []
    },
    {
      "cell_type": "code",
      "source": [
        "stud1.details(\"Pragati\",80)"
      ],
      "metadata": {
        "id": "CdgOxLggAFij"
      },
      "execution_count": null,
      "outputs": []
    },
    {
      "cell_type": "code",
      "source": [
        "stud1.show_details()"
      ],
      "metadata": {
        "colab": {
          "base_uri": "https://localhost:8080/"
        },
        "id": "Ah2nNCGqASIv",
        "outputId": "bc16efdf-5186-45c9-f2da-318a2e72b707"
      },
      "execution_count": null,
      "outputs": [
        {
          "output_type": "stream",
          "name": "stdout",
          "text": [
            "Name Pragati\n",
            "Marks 80\n"
          ]
        }
      ]
    },
    {
      "cell_type": "code",
      "source": [
        "stud2.details(\"Sanjay\",90)"
      ],
      "metadata": {
        "id": "TI5WJuDrATxk"
      },
      "execution_count": null,
      "outputs": []
    },
    {
      "cell_type": "code",
      "source": [
        "stud2.show_details()"
      ],
      "metadata": {
        "colab": {
          "base_uri": "https://localhost:8080/"
        },
        "id": "Qfpsbdr3A70R",
        "outputId": "cd9c90f6-ca37-4cf2-bd4e-805c6d9447e1"
      },
      "execution_count": null,
      "outputs": [
        {
          "output_type": "stream",
          "name": "stdout",
          "text": [
            "Name Sanjay\n",
            "Marks 90\n"
          ]
        }
      ]
    },
    {
      "cell_type": "code",
      "source": [
        "#class creation--done\n",
        "#object creation---done\n",
        "#self keyword--done"
      ],
      "metadata": {
        "id": "pS25j_mlA9Td"
      },
      "execution_count": null,
      "outputs": []
    },
    {
      "cell_type": "code",
      "source": [
        "class Blueprint:\n",
        "  def essential(self):\n",
        "    print(\"I need brick,iron,tiles ,money\")\n",
        "  def land_area(self):\n",
        "    print(\"I need the size of the place\")\n",
        "  def architecture(self):\n",
        "    print(\"here we will design your house\")\n",
        "  def interior(self):\n",
        "    print(\"We will do the interior of your house\")"
      ],
      "metadata": {
        "id": "5CJ58w5cCE8s"
      },
      "execution_count": null,
      "outputs": []
    },
    {
      "cell_type": "code",
      "source": [
        "#code reusability\n",
        "#code readability"
      ],
      "metadata": {
        "id": "U8rFvHziCkyU"
      },
      "execution_count": null,
      "outputs": []
    },
    {
      "cell_type": "code",
      "source": [
        "class Student:\n",
        "  name=\"shilpa\"\n",
        "  marks=90"
      ],
      "metadata": {
        "id": "f6lnICBvFF4q"
      },
      "execution_count": null,
      "outputs": []
    },
    {
      "cell_type": "code",
      "source": [
        "ob=Student()\n",
        "ob.name=100\n",
        "print(ob.name)\n",
        "ob.marks"
      ],
      "metadata": {
        "colab": {
          "base_uri": "https://localhost:8080/"
        },
        "id": "Q_eit1WfFjbq",
        "outputId": "bc39031b-59e3-4842-92ce-d6bbb80470f5"
      },
      "execution_count": null,
      "outputs": [
        {
          "output_type": "stream",
          "name": "stdout",
          "text": [
            "100\n"
          ]
        },
        {
          "output_type": "execute_result",
          "data": {
            "text/plain": [
              "90"
            ]
          },
          "metadata": {},
          "execution_count": 32
        }
      ]
    },
    {
      "cell_type": "markdown",
      "source": [
        "# Constructor are special type of fxns that executes by default whenever we create the object of our class.\n",
        "\n",
        "# Whenever wehave such fxns that will be mandatory for every object of our class then we use the constructor."
      ],
      "metadata": {
        "id": "MIXCyJ4WFz-3"
      }
    },
    {
      "cell_type": "code",
      "source": [
        "class RegistrationForm:\n",
        "  def __init__(self,name,address,adhar_no):      #__init__ is use for constructor\n",
        "    self.name=name\n",
        "    self.address=address\n",
        "    self.adhar_no=adhar_no\n",
        "\n",
        "  def portal(self):\n",
        "    print(\"You can access the portal\")\n",
        "\n",
        "  def update_details(self):\n",
        "    print(\"You can update your details\")"
      ],
      "metadata": {
        "id": "BvkSP0EJFmDi"
      },
      "execution_count": null,
      "outputs": []
    },
    {
      "cell_type": "code",
      "source": [
        "ob1=RegistrationForm(\"Sanjay\",\"Pune\",383838430)"
      ],
      "metadata": {
        "id": "Of7TUoJGGtAE"
      },
      "execution_count": null,
      "outputs": []
    },
    {
      "cell_type": "code",
      "source": [
        "ob1.update_details()"
      ],
      "metadata": {
        "colab": {
          "base_uri": "https://localhost:8080/"
        },
        "id": "j9FH7KSJG1mT",
        "outputId": "853974a9-ac62-45ce-fb2d-43fda6b2a2bf"
      },
      "execution_count": null,
      "outputs": [
        {
          "output_type": "stream",
          "name": "stdout",
          "text": [
            "You can update your details\n"
          ]
        }
      ]
    },
    {
      "cell_type": "code",
      "source": [
        "ob2=RegistrationForm(\"Shilpa\",\"UP\",36373983)"
      ],
      "metadata": {
        "id": "om-um07KG-J-"
      },
      "execution_count": null,
      "outputs": []
    },
    {
      "cell_type": "code",
      "source": [
        "ob2.portal()"
      ],
      "metadata": {
        "colab": {
          "base_uri": "https://localhost:8080/"
        },
        "id": "834yRDJEHDux",
        "outputId": "7a96a56b-6631-4321-827e-ec4f012f0266"
      },
      "execution_count": null,
      "outputs": [
        {
          "output_type": "stream",
          "name": "stdout",
          "text": [
            "You can access the portal\n"
          ]
        }
      ]
    },
    {
      "cell_type": "code",
      "source": [
        "ob2.update_details()"
      ],
      "metadata": {
        "colab": {
          "base_uri": "https://localhost:8080/"
        },
        "id": "8pns2tj3HKGK",
        "outputId": "7e5c4883-91d6-46a6-a6b5-beb6f9630945"
      },
      "execution_count": null,
      "outputs": [
        {
          "output_type": "stream",
          "name": "stdout",
          "text": [
            "You can update your details\n"
          ]
        }
      ]
    },
    {
      "cell_type": "code",
      "source": [
        "ob3=RegistrationForm(\"Harhsa\",\"Gujarat\",37434345)"
      ],
      "metadata": {
        "id": "ETgomAvpHMzv"
      },
      "execution_count": null,
      "outputs": []
    },
    {
      "cell_type": "code",
      "source": [
        "ob3.portal()"
      ],
      "metadata": {
        "colab": {
          "base_uri": "https://localhost:8080/"
        },
        "id": "4515pW04HPb2",
        "outputId": "c66267a6-2c1a-474f-8ed7-50ffd7b618f8"
      },
      "execution_count": null,
      "outputs": [
        {
          "output_type": "stream",
          "name": "stdout",
          "text": [
            "You can access the portal\n"
          ]
        }
      ]
    },
    {
      "cell_type": "code",
      "source": [
        "ob3.update_details()"
      ],
      "metadata": {
        "colab": {
          "base_uri": "https://localhost:8080/"
        },
        "id": "E2PYro32HrJR",
        "outputId": "7fef263f-fa11-45c9-c790-27cfa90bfaad"
      },
      "execution_count": null,
      "outputs": [
        {
          "output_type": "stream",
          "name": "stdout",
          "text": [
            "You can update your details\n"
          ]
        }
      ]
    },
    {
      "cell_type": "code",
      "source": [
        "#I got some order that everyone should register his details"
      ],
      "metadata": {
        "id": "1VWe_6jcHTSX"
      },
      "execution_count": null,
      "outputs": []
    },
    {
      "cell_type": "code",
      "source": [
        "#Constructor we use whenever we want to make a fucntion mandatory for every object."
      ],
      "metadata": {
        "id": "nhkGkL4dIFdh"
      },
      "execution_count": null,
      "outputs": []
    },
    {
      "cell_type": "code",
      "source": [
        "#Create a class hotel and inside the class make a function for greeting and that function should be mandatory for every object.\n",
        "class Hotel:\n",
        "  def __init__(self):\n",
        "    print(\"Good Morning,Welcome to our hotel\")\n",
        "\n",
        "  def room(self):\n",
        "    print(\"You can acces the room\")\n",
        "  def food(self):\n",
        "    print(\"You can access the food\")"
      ],
      "metadata": {
        "id": "FuXoKhJBKj5c"
      },
      "execution_count": null,
      "outputs": []
    },
    {
      "cell_type": "code",
      "source": [
        "ob=Hotel()"
      ],
      "metadata": {
        "colab": {
          "base_uri": "https://localhost:8080/"
        },
        "id": "qf9Ak4ywSV-E",
        "outputId": "b5d891e7-d686-4824-dbaa-b44aaf4c909b"
      },
      "execution_count": null,
      "outputs": [
        {
          "output_type": "stream",
          "name": "stdout",
          "text": [
            "Good Morning,Welcome to our hotel\n"
          ]
        }
      ]
    },
    {
      "cell_type": "code",
      "source": [
        "ob1=Hotel()"
      ],
      "metadata": {
        "colab": {
          "base_uri": "https://localhost:8080/"
        },
        "id": "nguaemSISYAq",
        "outputId": "680fed52-fd42-4573-d7f0-6b65c2774b9f"
      },
      "execution_count": null,
      "outputs": [
        {
          "output_type": "stream",
          "name": "stdout",
          "text": [
            "Good Morning,Welcome to our hotel\n"
          ]
        }
      ]
    },
    {
      "cell_type": "code",
      "source": [
        "ob2=Hotel()"
      ],
      "metadata": {
        "colab": {
          "base_uri": "https://localhost:8080/"
        },
        "id": "kOuFNVtdSaaF",
        "outputId": "98cfb076-83d7-46fe-87ec-0ef757edf1bc"
      },
      "execution_count": null,
      "outputs": [
        {
          "output_type": "stream",
          "name": "stdout",
          "text": [
            "Good Morning,Welcome to our hotel\n"
          ]
        }
      ]
    },
    {
      "cell_type": "code",
      "source": [
        "#Pillers of oops-\n",
        "#Inheritance\n",
        "#Polymorphism\n",
        "#Encapsulation\n",
        "#Abstraction"
      ],
      "metadata": {
        "id": "O8kUrIXZSb-i"
      },
      "execution_count": null,
      "outputs": []
    },
    {
      "cell_type": "markdown",
      "source": [
        "# Inheritance"
      ],
      "metadata": {
        "id": "S7jp-8KUS5sc"
      }
    },
    {
      "cell_type": "code",
      "source": [
        "class Father:                         #The class that we inherit that is called as Parent class\n",
        "  def car(self):\n",
        "    print(\"This is our car\")\n",
        "\n",
        "  def house(self):\n",
        "    print(\"This is our house\")\n",
        "\n",
        "class Son(Father):        #Inherited the father class in my son classs--child class\n",
        "  def room(self):\n",
        "    print(\"This is my room\")\n",
        "\n",
        "  def bike(self):\n",
        "    print(\"This is my bike\")\n",
        "\n",
        "# i want to access the property of Father class in my son class"
      ],
      "metadata": {
        "id": "mexiJHHSS7RI"
      },
      "execution_count": null,
      "outputs": []
    },
    {
      "cell_type": "code",
      "source": [
        "ob=Son()\n",
        "ob.room()\n",
        "ob.bike()\n",
        "ob.car()\n",
        "ob.house()"
      ],
      "metadata": {
        "colab": {
          "base_uri": "https://localhost:8080/"
        },
        "id": "cZahinTpVUQg",
        "outputId": "dd6ab46a-836b-4fdb-abd5-9da90760250e"
      },
      "execution_count": null,
      "outputs": [
        {
          "output_type": "stream",
          "name": "stdout",
          "text": [
            "This is my room\n",
            "This is my bike\n",
            "This is our car\n",
            "This is our house\n"
          ]
        }
      ]
    },
    {
      "cell_type": "markdown",
      "source": [
        "# Hierarical Inheritance:One Parent class and Multiple child class."
      ],
      "metadata": {
        "id": "y64yE1e-WJzC"
      }
    },
    {
      "cell_type": "code",
      "source": [
        "class Teacher:                 #Parent Class\n",
        "  def python(self):\n",
        "    print(\"You can find the python modules\")\n",
        "\n",
        "  def DsA(self):\n",
        "    print(\"You can learn dsa here\")\n",
        "\n",
        "class Online_teaching(Teacher):   #Child class\n",
        "  def exams(self):\n",
        "    print(\"You have your exams between 4-5 PM\")\n",
        "\n",
        "  def timings(self):\n",
        "    print(\"Our class timings are 9-10 PM\")\n",
        "\n",
        "\n",
        "class Offline_Teaching(Teacher):   #child class\n",
        "  def timings(self):\n",
        "    print(\"Our class timings are 10-11 PM\")\n",
        "\n",
        "  def syllabus(self):\n",
        "    print(\"We have many topics to cover\")\n"
      ],
      "metadata": {
        "id": "sGCBGVajVW14"
      },
      "execution_count": null,
      "outputs": []
    },
    {
      "cell_type": "code",
      "source": [
        "Sanjay=Online_teaching()\n",
        "Rashmi=Offline_Teaching()\n",
        "lavanya=Teacher()"
      ],
      "metadata": {
        "id": "3I8ma9gxXUb8"
      },
      "execution_count": null,
      "outputs": []
    },
    {
      "cell_type": "code",
      "source": [
        "Sanjay.exams()\n",
        "Sanjay.timings()\n",
        "Sanjay.python()\n",
        "Sanjay.DsA()"
      ],
      "metadata": {
        "colab": {
          "base_uri": "https://localhost:8080/"
        },
        "id": "1ZytlG6hXY2J",
        "outputId": "3da7fdbe-c520-477a-84a4-a87aa937d9a7"
      },
      "execution_count": null,
      "outputs": [
        {
          "output_type": "stream",
          "name": "stdout",
          "text": [
            "You have your exams between 4-5 PM\n",
            "Our class timings are 9-10 PM\n",
            "You can find the python modules\n",
            "You can learn dsa here\n"
          ]
        }
      ]
    },
    {
      "cell_type": "code",
      "source": [
        "Rashmi.syllabus()\n",
        "Rashmi.timings()\n",
        "Rashmi.DsA()\n",
        "Rashmi.python()"
      ],
      "metadata": {
        "colab": {
          "base_uri": "https://localhost:8080/"
        },
        "id": "qEZM7WXnXf8S",
        "outputId": "c8999aa6-a553-45ea-cc91-0d9bca24df59"
      },
      "execution_count": null,
      "outputs": [
        {
          "output_type": "stream",
          "name": "stdout",
          "text": [
            "We have many topics to cover\n",
            "Our class timings are 10-11 PM\n",
            "You can learn dsa here\n",
            "You can find the python modules\n"
          ]
        }
      ]
    },
    {
      "cell_type": "markdown",
      "source": [
        "# Multiple Inheritance:When a class inherit from multiple parent class."
      ],
      "metadata": {
        "id": "C-uC_UUMYbFW"
      }
    },
    {
      "cell_type": "code",
      "source": [
        "class Father:\n",
        "  def car(self):\n",
        "    print(\"This is our car\")\n",
        "  def house(self):\n",
        "    print(\"This is our house\")\n",
        "\n",
        "class Mother:\n",
        "  def garden(self):\n",
        "    print(\"This is our garden\")\n",
        "\n",
        "  def scooty(self):\n",
        "    print(\"This is our scooty\")\n",
        "\n",
        "class Son(Father,Mother):\n",
        "  def room(self):\n",
        "    print(\"This is my room\")\n",
        "\n",
        "  def bike(self):\n",
        "    print(\"This is my bike\")"
      ],
      "metadata": {
        "id": "WrR5KWd8Xm6O"
      },
      "execution_count": null,
      "outputs": []
    },
    {
      "cell_type": "code",
      "source": [
        "ob=Son()\n",
        "ob.bike()\n",
        "ob.room()\n",
        "ob.car()\n",
        "ob.garden()"
      ],
      "metadata": {
        "colab": {
          "base_uri": "https://localhost:8080/"
        },
        "id": "BJrCFbnRZOV4",
        "outputId": "819312c1-4fb4-42bc-804f-7a9b30fab774"
      },
      "execution_count": null,
      "outputs": [
        {
          "output_type": "stream",
          "name": "stdout",
          "text": [
            "This is my bike\n",
            "This is my room\n",
            "This is our car\n",
            "This is our garden\n"
          ]
        }
      ]
    },
    {
      "cell_type": "markdown",
      "source": [
        "# Multi level Inheritance"
      ],
      "metadata": {
        "id": "4GcuqYB3Z2N5"
      }
    },
    {
      "cell_type": "code",
      "source": [
        "class IIT:\n",
        "  def classes(self):\n",
        "    print(\"These are the classes\")\n",
        "\n",
        "  def events(self):\n",
        "    print(\"These are the events\")\n",
        "\n",
        "\n",
        "class Intellipaat(IIT):\n",
        "  def course(self):\n",
        "    print(\"Thse are our courses\")\n",
        "\n",
        "  def sessions(self):\n",
        "    print(\"These are our sessions\")\n",
        "\n",
        "\n",
        "class Learners(Intellipaat):\n",
        "  def LMS(self):\n",
        "    print(\"This is your LMS\")\n",
        "\n",
        "  def whatsapp_grp(self):\n",
        "    print(\"This is our whatsapp grp\")"
      ],
      "metadata": {
        "id": "Am1XT1ZIZRgL"
      },
      "execution_count": null,
      "outputs": []
    },
    {
      "cell_type": "code",
      "source": [
        "obj=Learners()\n",
        "obj.LMS()\n",
        "obj.whatsapp_grp()\n",
        "obj.sessions()\n",
        "obj.course()\n",
        "obj.classes()\n",
        "obj.events()"
      ],
      "metadata": {
        "colab": {
          "base_uri": "https://localhost:8080/"
        },
        "id": "sotI_jmua4h7",
        "outputId": "e412b0fd-829c-4c86-afa3-1939c453c15f"
      },
      "execution_count": null,
      "outputs": [
        {
          "output_type": "stream",
          "name": "stdout",
          "text": [
            "This is your LMS\n",
            "This is our whatsapp grp\n",
            "These are our sessions\n",
            "Thse are our courses\n",
            "These are the classes\n",
            "These are the events\n"
          ]
        }
      ]
    },
    {
      "cell_type": "markdown",
      "source": [
        "# Hybrid Inheritance: Combination of two or more Inhetitance."
      ],
      "metadata": {
        "id": "i3r5n9f0celJ"
      }
    },
    {
      "cell_type": "code",
      "source": [
        "class Grandfather:\n",
        "  def property(self):                           #Hierarichal\n",
        "    print(\"This is our property\")\n",
        "\n",
        "  def house(self):\n",
        "    print(\"This is our house\")\n",
        "\n",
        "class Father(Grandfather):\n",
        "  def car(self):\n",
        "    print(\"This is my car\")\n",
        "\n",
        "  def garden(self):\n",
        "    print(\"This is our garden\")\n",
        "\n",
        "class Uncle(Grandfather):\n",
        "  def book(self):\n",
        "    print(\"This is our book\")\n",
        "\n",
        "  def pen(self):\n",
        "    print(\"This is our pen\")\n",
        "\n",
        "class Son(Father,Uncle):             #Multiple\n",
        "  def room(self):\n",
        "    print(\"This is my room\")\n",
        "\n",
        "  def phone(self):\n",
        "    print(\"This is my phone\")"
      ],
      "metadata": {
        "id": "rvWxFIyJa7mg"
      },
      "execution_count": null,
      "outputs": []
    },
    {
      "cell_type": "code",
      "source": [
        "ob=Son()\n",
        "ob.room()\n",
        "ob.car()\n",
        "ob.pen()\n",
        "ob.property()"
      ],
      "metadata": {
        "colab": {
          "base_uri": "https://localhost:8080/"
        },
        "id": "OJmWqYgTfIKk",
        "outputId": "6806ded9-cad9-4388-a731-536d03264852"
      },
      "execution_count": null,
      "outputs": [
        {
          "output_type": "stream",
          "name": "stdout",
          "text": [
            "This is my room\n",
            "This is my car\n",
            "This is our pen\n",
            "This is our property\n"
          ]
        }
      ]
    },
    {
      "cell_type": "markdown",
      "source": [
        "# Polymorphism."
      ],
      "metadata": {
        "id": "7CwEFZTEDJLy"
      }
    },
    {
      "cell_type": "code",
      "source": [
        "#Method Overloading->In a file more than one fxn can exist with the same name but with diff paramertes\n",
        "#Method overloading is not supported in python.\n",
        "#Method Overriding->In a file if you have two functions with the same name then the function which you have created latestly that will gget called."
      ],
      "metadata": {
        "id": "XhXRtNpnfJiR"
      },
      "execution_count": null,
      "outputs": []
    },
    {
      "cell_type": "code",
      "source": [
        "def sum(a,b):\n",
        "  return a+b\n",
        "\n",
        "def sum(a,b,c):\n",
        "  return a+b+c\n",
        "\n",
        "def sum(a,b):\n",
        "  return a+b\n",
        "\n",
        "\n",
        "def sum(a,b,c):\n",
        "  return a+b+c"
      ],
      "metadata": {
        "id": "csrDY2kjDdE8"
      },
      "execution_count": null,
      "outputs": []
    },
    {
      "cell_type": "code",
      "source": [
        "sum(2,4)"
      ],
      "metadata": {
        "colab": {
          "base_uri": "https://localhost:8080/",
          "height": 141
        },
        "id": "ptGp7OPJDjWG",
        "outputId": "e4664f3b-380c-4d73-81c6-c3f76b2b14d6"
      },
      "execution_count": null,
      "outputs": [
        {
          "output_type": "error",
          "ename": "TypeError",
          "evalue": "sum() missing 1 required positional argument: 'c'",
          "traceback": [
            "\u001b[0;31m---------------------------------------------------------------------------\u001b[0m",
            "\u001b[0;31mTypeError\u001b[0m                                 Traceback (most recent call last)",
            "\u001b[0;32m<ipython-input-7-2985093092>\u001b[0m in \u001b[0;36m<cell line: 0>\u001b[0;34m()\u001b[0m\n\u001b[0;32m----> 1\u001b[0;31m \u001b[0msum\u001b[0m\u001b[0;34m(\u001b[0m\u001b[0;36m2\u001b[0m\u001b[0;34m,\u001b[0m\u001b[0;36m4\u001b[0m\u001b[0;34m)\u001b[0m\u001b[0;34m\u001b[0m\u001b[0;34m\u001b[0m\u001b[0m\n\u001b[0m",
            "\u001b[0;31mTypeError\u001b[0m: sum() missing 1 required positional argument: 'c'"
          ]
        }
      ]
    },
    {
      "cell_type": "code",
      "source": [],
      "metadata": {
        "id": "mPgcVr9zDx2u"
      },
      "execution_count": null,
      "outputs": []
    }
  ]
}